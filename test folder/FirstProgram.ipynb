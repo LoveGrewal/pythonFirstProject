{
 "cells": [
  {
   "cell_type": "code",
   "execution_count": 1,
   "metadata": {},
   "outputs": [
    {
     "name": "stdout",
     "output_type": "stream",
     "text": [
      "3\n"
     ]
    }
   ],
   "source": [
    "print(2+1)\n"
   ]
  },
  {
   "cell_type": "code",
   "execution_count": 38,
   "metadata": {},
   "outputs": [],
   "source": [
    "a=\"hello world\"\n"
   ]
  },
  {
   "cell_type": "code",
   "execution_count": 10,
   "metadata": {},
   "outputs": [
    {
     "data": {
      "text/plain": [
       "\"i'm\""
      ]
     },
     "execution_count": 10,
     "metadata": {},
     "output_type": "execute_result"
    }
   ],
   "source": [
    "a\n"
   ]
  },
  {
   "cell_type": "code",
   "execution_count": 7,
   "metadata": {},
   "outputs": [
    {
     "ename": "IndexError",
     "evalue": "string index out of range",
     "output_type": "error",
     "traceback": [
      "\u001b[1;31m---------------------------------------------------------------------------\u001b[0m",
      "\u001b[1;31mIndexError\u001b[0m                                Traceback (most recent call last)",
      "\u001b[1;32m<ipython-input-7-4a84d856522b>\u001b[0m in \u001b[0;36m<module>\u001b[1;34m()\u001b[0m\n\u001b[1;32m----> 1\u001b[1;33m \u001b[0ma\u001b[0m\u001b[1;33m[\u001b[0m\u001b[1;36m5\u001b[0m\u001b[1;33m]\u001b[0m\u001b[1;33m\u001b[0m\u001b[0m\n\u001b[0m",
      "\u001b[1;31mIndexError\u001b[0m: string index out of range"
     ]
    }
   ],
   "source": [
    "a[5]"
   ]
  },
  {
   "cell_type": "code",
   "execution_count": 8,
   "metadata": {},
   "outputs": [
    {
     "data": {
      "text/plain": [
       "''"
      ]
     },
     "execution_count": 8,
     "metadata": {},
     "output_type": "execute_result"
    }
   ],
   "source": [
    "a[0:0]"
   ]
  },
  {
   "cell_type": "code",
   "execution_count": 20,
   "metadata": {},
   "outputs": [
    {
     "data": {
      "text/plain": [
       "'jj'"
      ]
     },
     "execution_count": 20,
     "metadata": {},
     "output_type": "execute_result"
    }
   ],
   "source": [
    "a[0:2]"
   ]
  },
  {
   "cell_type": "code",
   "execution_count": null,
   "metadata": {},
   "outputs": [],
   "source": []
  },
  {
   "cell_type": "code",
   "execution_count": 23,
   "metadata": {},
   "outputs": [
    {
     "data": {
      "text/plain": [
       "1"
      ]
     },
     "execution_count": 23,
     "metadata": {},
     "output_type": "execute_result"
    }
   ],
   "source": [
    "a.count('lo')"
   ]
  },
  {
   "cell_type": "code",
   "execution_count": 40,
   "metadata": {},
   "outputs": [
    {
     "data": {
      "text/plain": [
       "2"
      ]
     },
     "execution_count": 40,
     "metadata": {},
     "output_type": "execute_result"
    }
   ],
   "source": [
    "a.find('l') #my first comment"
   ]
  },
  {
   "cell_type": "code",
   "execution_count": 41,
   "metadata": {},
   "outputs": [
    {
     "data": {
      "text/plain": [
       "1"
      ]
     },
     "execution_count": 41,
     "metadata": {},
     "output_type": "execute_result"
    }
   ],
   "source": [
    "a[0:3].find('e')"
   ]
  },
  {
   "cell_type": "code",
   "execution_count": 42,
   "metadata": {},
   "outputs": [],
   "source": [
    "a=[1,2,3,'yo',True]"
   ]
  },
  {
   "cell_type": "code",
   "execution_count": 43,
   "metadata": {},
   "outputs": [
    {
     "data": {
      "text/plain": [
       "True"
      ]
     },
     "execution_count": 43,
     "metadata": {},
     "output_type": "execute_result"
    }
   ],
   "source": [
    "a[4]"
   ]
  },
  {
   "cell_type": "code",
   "execution_count": 44,
   "metadata": {},
   "outputs": [
    {
     "data": {
      "text/plain": [
       "str"
      ]
     },
     "execution_count": 44,
     "metadata": {},
     "output_type": "execute_result"
    }
   ],
   "source": [
    "type(a[3])"
   ]
  },
  {
   "cell_type": "code",
   "execution_count": 45,
   "metadata": {},
   "outputs": [
    {
     "data": {
      "text/plain": [
       "[2, 3, 'yo', True]"
      ]
     },
     "execution_count": 45,
     "metadata": {},
     "output_type": "execute_result"
    }
   ],
   "source": [
    "a[1:]"
   ]
  },
  {
   "cell_type": "code",
   "execution_count": 46,
   "metadata": {},
   "outputs": [
    {
     "data": {
      "text/plain": [
       "[1, 3]"
      ]
     },
     "execution_count": 46,
     "metadata": {},
     "output_type": "execute_result"
    }
   ],
   "source": [
    "a[0:4:2]"
   ]
  },
  {
   "cell_type": "code",
   "execution_count": 47,
   "metadata": {},
   "outputs": [
    {
     "data": {
      "text/plain": [
       "[True, 'yo', 3, 2, 1]"
      ]
     },
     "execution_count": 47,
     "metadata": {},
     "output_type": "execute_result"
    }
   ],
   "source": [
    "a[::-1]"
   ]
  },
  {
   "cell_type": "code",
   "execution_count": 48,
   "metadata": {},
   "outputs": [],
   "source": [
    "s=\"awesome streak\""
   ]
  },
  {
   "cell_type": "code",
   "execution_count": 49,
   "metadata": {},
   "outputs": [
    {
     "data": {
      "text/plain": [
       "[True, 'yo', 3, 2, 1]"
      ]
     },
     "execution_count": 49,
     "metadata": {},
     "output_type": "execute_result"
    }
   ],
   "source": [
    "a[::-1]"
   ]
  },
  {
   "cell_type": "code",
   "execution_count": 50,
   "metadata": {},
   "outputs": [
    {
     "data": {
      "text/plain": [
       "'kaerts emosewa'"
      ]
     },
     "execution_count": 50,
     "metadata": {},
     "output_type": "execute_result"
    }
   ],
   "source": [
    "s[::-1]"
   ]
  },
  {
   "cell_type": "code",
   "execution_count": 51,
   "metadata": {},
   "outputs": [
    {
     "data": {
      "text/plain": [
       "[3, 2, 1]"
      ]
     },
     "execution_count": 51,
     "metadata": {},
     "output_type": "execute_result"
    }
   ],
   "source": [
    "a[0:3][::-1]"
   ]
  },
  {
   "cell_type": "code",
   "execution_count": 52,
   "metadata": {},
   "outputs": [
    {
     "data": {
      "text/plain": [
       "[]"
      ]
     },
     "execution_count": 52,
     "metadata": {},
     "output_type": "execute_result"
    }
   ],
   "source": [
    "a[0:3:-1]"
   ]
  },
  {
   "cell_type": "code",
   "execution_count": 53,
   "metadata": {},
   "outputs": [
    {
     "data": {
      "text/plain": [
       "[True, 'yo', 3, 2, 1]"
      ]
     },
     "execution_count": 53,
     "metadata": {},
     "output_type": "execute_result"
    }
   ],
   "source": [
    "a[4::-1]"
   ]
  },
  {
   "cell_type": "code",
   "execution_count": 54,
   "metadata": {},
   "outputs": [
    {
     "data": {
      "text/plain": [
       "[3, 2, 1]"
      ]
     },
     "execution_count": 54,
     "metadata": {},
     "output_type": "execute_result"
    }
   ],
   "source": [
    "a[2::-1]"
   ]
  },
  {
   "cell_type": "code",
   "execution_count": 55,
   "metadata": {},
   "outputs": [
    {
     "data": {
      "text/plain": [
       "2"
      ]
     },
     "execution_count": 55,
     "metadata": {},
     "output_type": "execute_result"
    }
   ],
   "source": [
    "a.index(3)"
   ]
  },
  {
   "cell_type": "code",
   "execution_count": 56,
   "metadata": {},
   "outputs": [
    {
     "ename": "ValueError",
     "evalue": "99 is not in list",
     "output_type": "error",
     "traceback": [
      "\u001b[1;31m---------------------------------------------------------------------------\u001b[0m",
      "\u001b[1;31mValueError\u001b[0m                                Traceback (most recent call last)",
      "\u001b[1;32m<ipython-input-56-6906ad68e919>\u001b[0m in \u001b[0;36m<module>\u001b[1;34m()\u001b[0m\n\u001b[1;32m----> 1\u001b[1;33m \u001b[0ma\u001b[0m\u001b[1;33m.\u001b[0m\u001b[0mindex\u001b[0m\u001b[1;33m(\u001b[0m\u001b[1;36m99\u001b[0m\u001b[1;33m)\u001b[0m\u001b[1;33m\u001b[0m\u001b[0m\n\u001b[0m",
      "\u001b[1;31mValueError\u001b[0m: 99 is not in list"
     ]
    }
   ],
   "source": [
    "a.index(99)"
   ]
  },
  {
   "cell_type": "code",
   "execution_count": 57,
   "metadata": {},
   "outputs": [],
   "source": [
    "s1=\"abcd\""
   ]
  },
  {
   "cell_type": "code",
   "execution_count": 70,
   "metadata": {},
   "outputs": [],
   "source": [
    "s2=\"wxyq\""
   ]
  },
  {
   "cell_type": "code",
   "execution_count": 71,
   "metadata": {},
   "outputs": [],
   "source": [
    "user=\"g\""
   ]
  },
  {
   "cell_type": "code",
   "execution_count": 72,
   "metadata": {},
   "outputs": [],
   "source": [
    "ui=s1.find(user)"
   ]
  },
  {
   "cell_type": "markdown",
   "metadata": {},
   "source": [
    "s2[ui]"
   ]
  },
  {
   "cell_type": "code",
   "execution_count": 73,
   "metadata": {},
   "outputs": [
    {
     "data": {
      "text/plain": [
       "'q'"
      ]
     },
     "execution_count": 73,
     "metadata": {},
     "output_type": "execute_result"
    }
   ],
   "source": [
    "s2[ui]"
   ]
  },
  {
   "cell_type": "markdown",
   "metadata": {},
   "source": [
    "## "
   ]
  },
  {
   "cell_type": "code",
   "execution_count": 74,
   "metadata": {},
   "outputs": [
    {
     "data": {
      "text/plain": [
       "'y'"
      ]
     },
     "execution_count": 74,
     "metadata": {},
     "output_type": "execute_result"
    }
   ],
   "source": [
    "s2[-2]"
   ]
  },
  {
   "cell_type": "code",
   "execution_count": 76,
   "metadata": {},
   "outputs": [
    {
     "name": "stdout",
     "output_type": "stream",
     "text": [
      "yoyo\n"
     ]
    }
   ],
   "source": [
    "s=\"hello\"\n",
    "if s==\"hello\":\n",
    "    print(\"yoyo\")\n",
    "else:\n",
    "    print(\"single yo\")"
   ]
  },
  {
   "cell_type": "code",
   "execution_count": 77,
   "metadata": {},
   "outputs": [
    {
     "ename": "SyntaxError",
     "evalue": "invalid syntax (<ipython-input-77-b95f75ed3395>, line 1)",
     "output_type": "error",
     "traceback": [
      "\u001b[1;36m  File \u001b[1;32m\"<ipython-input-77-b95f75ed3395>\"\u001b[1;36m, line \u001b[1;32m1\u001b[0m\n\u001b[1;33m    user=\"ab\"s1.find(user)\u001b[0m\n\u001b[1;37m              ^\u001b[0m\n\u001b[1;31mSyntaxError\u001b[0m\u001b[1;31m:\u001b[0m invalid syntax\n"
     ]
    }
   ],
   "source": [
    "user=\"ab\"s1.find(user)"
   ]
  },
  {
   "cell_type": "code",
   "execution_count": 78,
   "metadata": {},
   "outputs": [
    {
     "data": {
      "text/plain": [
       "0"
      ]
     },
     "execution_count": 78,
     "metadata": {},
     "output_type": "execute_result"
    }
   ],
   "source": [
    "user=\"ab\"\n",
    "s1.find(user)"
   ]
  },
  {
   "cell_type": "code",
   "execution_count": 79,
   "metadata": {},
   "outputs": [
    {
     "name": "stdout",
     "output_type": "stream",
     "text": [
      "a\n",
      "b\n"
     ]
    }
   ],
   "source": [
    "for item in user:\n",
    "    print(item)"
   ]
  },
  {
   "cell_type": "code",
   "execution_count": 86,
   "metadata": {},
   "outputs": [
    {
     "name": "stdout",
     "output_type": "stream",
     "text": [
      "xw\n"
     ]
    }
   ],
   "source": [
    "s2\n",
    "user=\"ba\"\n",
    "out=\"\"\n",
    "for item in user:\n",
    "    out=out+s2[s1.find(item)]\n",
    "print(out)"
   ]
  },
  {
   "cell_type": "code",
   "execution_count": 82,
   "metadata": {},
   "outputs": [
    {
     "data": {
      "text/plain": [
       "'wxyq'"
      ]
     },
     "execution_count": 82,
     "metadata": {},
     "output_type": "execute_result"
    }
   ],
   "source": [
    "s2"
   ]
  },
  {
   "cell_type": "code",
   "execution_count": 87,
   "metadata": {},
   "outputs": [],
   "source": [
    "def f1(s1,s2):\n",
    "    print(s1)\n",
    "    print(s2)\n",
    "    print(s1+s2)"
   ]
  },
  {
   "cell_type": "code",
   "execution_count": 88,
   "metadata": {},
   "outputs": [
    {
     "name": "stdout",
     "output_type": "stream",
     "text": [
      "hello\n",
      "world\n",
      "helloworld\n"
     ]
    }
   ],
   "source": [
    "f1(\"hello\", \"world\")"
   ]
  },
  {
   "cell_type": "code",
   "execution_count": 89,
   "metadata": {},
   "outputs": [],
   "source": [
    "s3=\"hello\""
   ]
  },
  {
   "cell_type": "code",
   "execution_count": 90,
   "metadata": {},
   "outputs": [
    {
     "data": {
      "text/plain": [
       "'helloworld'"
      ]
     },
     "execution_count": 90,
     "metadata": {},
     "output_type": "execute_result"
    }
   ],
   "source": [
    "s3+\"world\""
   ]
  },
  {
   "cell_type": "code",
   "execution_count": 91,
   "metadata": {},
   "outputs": [
    {
     "name": "stdout",
     "output_type": "stream",
     "text": [
      "hello\n"
     ]
    }
   ],
   "source": [
    "print(s3)"
   ]
  },
  {
   "cell_type": "code",
   "execution_count": 96,
   "metadata": {},
   "outputs": [],
   "source": [
    "d={'a':1,'b':2,'s':\"hello\",6:4, \"marks\":[1,2,3,4,5]}"
   ]
  },
  {
   "cell_type": "code",
   "execution_count": 97,
   "metadata": {},
   "outputs": [
    {
     "data": {
      "text/plain": [
       "dict"
      ]
     },
     "execution_count": 97,
     "metadata": {},
     "output_type": "execute_result"
    }
   ],
   "source": [
    "type(d)"
   ]
  },
  {
   "cell_type": "code",
   "execution_count": 99,
   "metadata": {},
   "outputs": [
    {
     "name": "stdout",
     "output_type": "stream",
     "text": [
      "1\n",
      "2\n"
     ]
    }
   ],
   "source": [
    "e={'a':1,'b':2}\n",
    "for item in e:\n",
    "    print(e[item])"
   ]
  },
  {
   "cell_type": "code",
   "execution_count": 101,
   "metadata": {},
   "outputs": [],
   "source": [
    "import pandas"
   ]
  },
  {
   "cell_type": "code",
   "execution_count": 106,
   "metadata": {},
   "outputs": [
    {
     "data": {
      "text/html": [
       "<div>\n",
       "<style scoped>\n",
       "    .dataframe tbody tr th:only-of-type {\n",
       "        vertical-align: middle;\n",
       "    }\n",
       "\n",
       "    .dataframe tbody tr th {\n",
       "        vertical-align: top;\n",
       "    }\n",
       "\n",
       "    .dataframe thead th {\n",
       "        text-align: right;\n",
       "    }\n",
       "</style>\n",
       "<table border=\"1\" class=\"dataframe\">\n",
       "  <thead>\n",
       "    <tr style=\"text-align: right;\">\n",
       "      <th></th>\n",
       "      <th>a</th>\n",
       "      <th>b</th>\n",
       "    </tr>\n",
       "  </thead>\n",
       "  <tbody>\n",
       "    <tr>\n",
       "      <th>0</th>\n",
       "      <td>1</td>\n",
       "      <td>3</td>\n",
       "    </tr>\n",
       "    <tr>\n",
       "      <th>1</th>\n",
       "      <td>2</td>\n",
       "      <td>4</td>\n",
       "    </tr>\n",
       "  </tbody>\n",
       "</table>\n",
       "</div>"
      ],
      "text/plain": [
       "   a  b\n",
       "0  1  3\n",
       "1  2  4"
      ]
     },
     "execution_count": 106,
     "metadata": {},
     "output_type": "execute_result"
    }
   ],
   "source": [
    "pandas.DataFrame({'a':[1,2],'b':[3,4]})"
   ]
  },
  {
   "cell_type": "code",
   "execution_count": 107,
   "metadata": {},
   "outputs": [],
   "source": [
    "df =pandas.DataFrame({'a':[1,2],'b':[3,4]})"
   ]
  },
  {
   "cell_type": "code",
   "execution_count": 108,
   "metadata": {},
   "outputs": [
    {
     "data": {
      "text/plain": [
       "2"
      ]
     },
     "execution_count": 108,
     "metadata": {},
     "output_type": "execute_result"
    }
   ],
   "source": [
    "len(df)"
   ]
  },
  {
   "cell_type": "code",
   "execution_count": 109,
   "metadata": {},
   "outputs": [
    {
     "data": {
      "text/html": [
       "<div>\n",
       "<style scoped>\n",
       "    .dataframe tbody tr th:only-of-type {\n",
       "        vertical-align: middle;\n",
       "    }\n",
       "\n",
       "    .dataframe tbody tr th {\n",
       "        vertical-align: top;\n",
       "    }\n",
       "\n",
       "    .dataframe thead th {\n",
       "        text-align: right;\n",
       "    }\n",
       "</style>\n",
       "<table border=\"1\" class=\"dataframe\">\n",
       "  <thead>\n",
       "    <tr style=\"text-align: right;\">\n",
       "      <th></th>\n",
       "      <th>a</th>\n",
       "      <th>b</th>\n",
       "    </tr>\n",
       "  </thead>\n",
       "  <tbody>\n",
       "    <tr>\n",
       "      <th>0</th>\n",
       "      <td>1</td>\n",
       "      <td>3</td>\n",
       "    </tr>\n",
       "    <tr>\n",
       "      <th>1</th>\n",
       "      <td>2</td>\n",
       "      <td>4</td>\n",
       "    </tr>\n",
       "  </tbody>\n",
       "</table>\n",
       "</div>"
      ],
      "text/plain": [
       "   a  b\n",
       "0  1  3\n",
       "1  2  4"
      ]
     },
     "execution_count": 109,
     "metadata": {},
     "output_type": "execute_result"
    }
   ],
   "source": [
    "df"
   ]
  },
  {
   "cell_type": "code",
   "execution_count": 110,
   "metadata": {},
   "outputs": [],
   "source": [
    "import pandas as pd"
   ]
  },
  {
   "cell_type": "code",
   "execution_count": 195,
   "metadata": {},
   "outputs": [],
   "source": [
    "df = pd.read_csv(\"physician_rx.csv\")"
   ]
  },
  {
   "cell_type": "code",
   "execution_count": 196,
   "metadata": {},
   "outputs": [
    {
     "data": {
      "text/html": [
       "<div>\n",
       "<style scoped>\n",
       "    .dataframe tbody tr th:only-of-type {\n",
       "        vertical-align: middle;\n",
       "    }\n",
       "\n",
       "    .dataframe tbody tr th {\n",
       "        vertical-align: top;\n",
       "    }\n",
       "\n",
       "    .dataframe thead th {\n",
       "        text-align: right;\n",
       "    }\n",
       "</style>\n",
       "<table border=\"1\" class=\"dataframe\">\n",
       "  <thead>\n",
       "    <tr style=\"text-align: right;\">\n",
       "      <th></th>\n",
       "      <th>PHYSICIAN</th>\n",
       "      <th>CroMax_RX</th>\n",
       "      <th>GlycoMax_RX</th>\n",
       "      <th>AllergyMax_RX</th>\n",
       "      <th>FevMax_RX</th>\n",
       "      <th>ColdMax_RX</th>\n",
       "    </tr>\n",
       "  </thead>\n",
       "  <tbody>\n",
       "    <tr>\n",
       "      <th>0</th>\n",
       "      <td>AP1912920</td>\n",
       "      <td>0.0</td>\n",
       "      <td>50</td>\n",
       "      <td>510</td>\n",
       "      <td>152</td>\n",
       "      <td>0</td>\n",
       "    </tr>\n",
       "    <tr>\n",
       "      <th>1</th>\n",
       "      <td>AP1350415</td>\n",
       "      <td>2370.0</td>\n",
       "      <td>1320</td>\n",
       "      <td>60</td>\n",
       "      <td>1416</td>\n",
       "      <td>2676</td>\n",
       "    </tr>\n",
       "    <tr>\n",
       "      <th>2</th>\n",
       "      <td>AP0129322</td>\n",
       "      <td>0.0</td>\n",
       "      <td>85</td>\n",
       "      <td>0</td>\n",
       "      <td>0</td>\n",
       "      <td>144</td>\n",
       "    </tr>\n",
       "    <tr>\n",
       "      <th>3</th>\n",
       "      <td>AP0462902</td>\n",
       "      <td>30.0</td>\n",
       "      <td>570</td>\n",
       "      <td>0</td>\n",
       "      <td>128</td>\n",
       "      <td>3900</td>\n",
       "    </tr>\n",
       "    <tr>\n",
       "      <th>4</th>\n",
       "      <td>AP3185026</td>\n",
       "      <td>0.0</td>\n",
       "      <td>40</td>\n",
       "      <td>1080</td>\n",
       "      <td>0</td>\n",
       "      <td>0</td>\n",
       "    </tr>\n",
       "    <tr>\n",
       "      <th>5</th>\n",
       "      <td>AP3674571</td>\n",
       "      <td>70.0</td>\n",
       "      <td>40</td>\n",
       "      <td>0</td>\n",
       "      <td>64</td>\n",
       "      <td>0</td>\n",
       "    </tr>\n",
       "    <tr>\n",
       "      <th>6</th>\n",
       "      <td>AP0126982</td>\n",
       "      <td>0.0</td>\n",
       "      <td>135</td>\n",
       "      <td>0</td>\n",
       "      <td>0</td>\n",
       "      <td>0</td>\n",
       "    </tr>\n",
       "    <tr>\n",
       "      <th>7</th>\n",
       "      <td>NaN</td>\n",
       "      <td>150.0</td>\n",
       "      <td>315</td>\n",
       "      <td>270</td>\n",
       "      <td>184</td>\n",
       "      <td>36</td>\n",
       "    </tr>\n",
       "  </tbody>\n",
       "</table>\n",
       "</div>"
      ],
      "text/plain": [
       "   PHYSICIAN  CroMax_RX  GlycoMax_RX  AllergyMax_RX  FevMax_RX  ColdMax_RX\n",
       "0  AP1912920        0.0           50            510        152           0\n",
       "1  AP1350415     2370.0         1320             60       1416        2676\n",
       "2  AP0129322        0.0           85              0          0         144\n",
       "3  AP0462902       30.0          570              0        128        3900\n",
       "4  AP3185026        0.0           40           1080          0           0\n",
       "5  AP3674571       70.0           40              0         64           0\n",
       "6  AP0126982        0.0          135              0          0           0\n",
       "7        NaN      150.0          315            270        184          36"
      ]
     },
     "execution_count": 196,
     "metadata": {},
     "output_type": "execute_result"
    }
   ],
   "source": [
    "df.head(8) # by default 5"
   ]
  },
  {
   "cell_type": "code",
   "execution_count": 197,
   "metadata": {},
   "outputs": [
    {
     "data": {
      "text/html": [
       "<div>\n",
       "<style scoped>\n",
       "    .dataframe tbody tr th:only-of-type {\n",
       "        vertical-align: middle;\n",
       "    }\n",
       "\n",
       "    .dataframe tbody tr th {\n",
       "        vertical-align: top;\n",
       "    }\n",
       "\n",
       "    .dataframe thead th {\n",
       "        text-align: right;\n",
       "    }\n",
       "</style>\n",
       "<table border=\"1\" class=\"dataframe\">\n",
       "  <thead>\n",
       "    <tr style=\"text-align: right;\">\n",
       "      <th></th>\n",
       "      <th>PHYSICIAN</th>\n",
       "      <th>CroMax_RX</th>\n",
       "      <th>GlycoMax_RX</th>\n",
       "      <th>AllergyMax_RX</th>\n",
       "      <th>FevMax_RX</th>\n",
       "      <th>ColdMax_RX</th>\n",
       "    </tr>\n",
       "  </thead>\n",
       "  <tbody>\n",
       "    <tr>\n",
       "      <th>95</th>\n",
       "      <td>AP1957774</td>\n",
       "      <td>390.0</td>\n",
       "      <td>15</td>\n",
       "      <td>0</td>\n",
       "      <td>16</td>\n",
       "      <td>36</td>\n",
       "    </tr>\n",
       "    <tr>\n",
       "      <th>96</th>\n",
       "      <td>AP1273998</td>\n",
       "      <td>480.0</td>\n",
       "      <td>630</td>\n",
       "      <td>0</td>\n",
       "      <td>0</td>\n",
       "      <td>0</td>\n",
       "    </tr>\n",
       "    <tr>\n",
       "      <th>97</th>\n",
       "      <td>AP1228990</td>\n",
       "      <td>0.0</td>\n",
       "      <td>0</td>\n",
       "      <td>0</td>\n",
       "      <td>0</td>\n",
       "      <td>180</td>\n",
       "    </tr>\n",
       "    <tr>\n",
       "      <th>98</th>\n",
       "      <td>AP1881803</td>\n",
       "      <td>0.0</td>\n",
       "      <td>10</td>\n",
       "      <td>0</td>\n",
       "      <td>0</td>\n",
       "      <td>0</td>\n",
       "    </tr>\n",
       "    <tr>\n",
       "      <th>99</th>\n",
       "      <td>AP4772804</td>\n",
       "      <td>10.0</td>\n",
       "      <td>0</td>\n",
       "      <td>0</td>\n",
       "      <td>0</td>\n",
       "      <td>0</td>\n",
       "    </tr>\n",
       "  </tbody>\n",
       "</table>\n",
       "</div>"
      ],
      "text/plain": [
       "    PHYSICIAN  CroMax_RX  GlycoMax_RX  AllergyMax_RX  FevMax_RX  ColdMax_RX\n",
       "95  AP1957774      390.0           15              0         16          36\n",
       "96  AP1273998      480.0          630              0          0           0\n",
       "97  AP1228990        0.0            0              0          0         180\n",
       "98  AP1881803        0.0           10              0          0           0\n",
       "99  AP4772804       10.0            0              0          0           0"
      ]
     },
     "execution_count": 197,
     "metadata": {},
     "output_type": "execute_result"
    }
   ],
   "source": [
    "df.tail()"
   ]
  },
  {
   "cell_type": "code",
   "execution_count": 198,
   "metadata": {},
   "outputs": [
    {
     "data": {
      "text/plain": [
       "(100, 6)"
      ]
     },
     "execution_count": 198,
     "metadata": {},
     "output_type": "execute_result"
    }
   ],
   "source": [
    "df.shape"
   ]
  },
  {
   "cell_type": "code",
   "execution_count": 199,
   "metadata": {},
   "outputs": [
    {
     "data": {
      "text/plain": [
       "Index(['PHYSICIAN', 'CroMax_RX', 'GlycoMax_RX', 'AllergyMax_RX', 'FevMax_RX',\n",
       "       'ColdMax_RX'],\n",
       "      dtype='object')"
      ]
     },
     "execution_count": 199,
     "metadata": {},
     "output_type": "execute_result"
    }
   ],
   "source": [
    "df.columns"
   ]
  },
  {
   "cell_type": "code",
   "execution_count": 200,
   "metadata": {},
   "outputs": [
    {
     "data": {
      "text/plain": [
       "PHYSICIAN         object\n",
       "CroMax_RX        float64\n",
       "GlycoMax_RX        int64\n",
       "AllergyMax_RX      int64\n",
       "FevMax_RX          int64\n",
       "ColdMax_RX         int64\n",
       "dtype: object"
      ]
     },
     "execution_count": 200,
     "metadata": {},
     "output_type": "execute_result"
    }
   ],
   "source": [
    "df.dtypes"
   ]
  },
  {
   "cell_type": "code",
   "execution_count": 201,
   "metadata": {},
   "outputs": [],
   "source": [
    "s=\"s\""
   ]
  },
  {
   "cell_type": "code",
   "execution_count": 202,
   "metadata": {},
   "outputs": [
    {
     "data": {
      "text/plain": [
       "str"
      ]
     },
     "execution_count": 202,
     "metadata": {},
     "output_type": "execute_result"
    }
   ],
   "source": [
    "type(s)"
   ]
  },
  {
   "cell_type": "code",
   "execution_count": null,
   "metadata": {},
   "outputs": [],
   "source": []
  },
  {
   "cell_type": "code",
   "execution_count": 203,
   "metadata": {},
   "outputs": [
    {
     "data": {
      "text/html": [
       "<div>\n",
       "<style scoped>\n",
       "    .dataframe tbody tr th:only-of-type {\n",
       "        vertical-align: middle;\n",
       "    }\n",
       "\n",
       "    .dataframe tbody tr th {\n",
       "        vertical-align: top;\n",
       "    }\n",
       "\n",
       "    .dataframe thead th {\n",
       "        text-align: right;\n",
       "    }\n",
       "</style>\n",
       "<table border=\"1\" class=\"dataframe\">\n",
       "  <thead>\n",
       "    <tr style=\"text-align: right;\">\n",
       "      <th></th>\n",
       "      <th>PHYSICIAN</th>\n",
       "      <th>AllergyMax_RX</th>\n",
       "    </tr>\n",
       "  </thead>\n",
       "  <tbody>\n",
       "    <tr>\n",
       "      <th>0</th>\n",
       "      <td>AP1912920</td>\n",
       "      <td>510</td>\n",
       "    </tr>\n",
       "    <tr>\n",
       "      <th>1</th>\n",
       "      <td>AP1350415</td>\n",
       "      <td>60</td>\n",
       "    </tr>\n",
       "    <tr>\n",
       "      <th>2</th>\n",
       "      <td>AP0129322</td>\n",
       "      <td>0</td>\n",
       "    </tr>\n",
       "    <tr>\n",
       "      <th>3</th>\n",
       "      <td>AP0462902</td>\n",
       "      <td>0</td>\n",
       "    </tr>\n",
       "  </tbody>\n",
       "</table>\n",
       "</div>"
      ],
      "text/plain": [
       "   PHYSICIAN  AllergyMax_RX\n",
       "0  AP1912920            510\n",
       "1  AP1350415             60\n",
       "2  AP0129322              0\n",
       "3  AP0462902              0"
      ]
     },
     "execution_count": 203,
     "metadata": {},
     "output_type": "execute_result"
    }
   ],
   "source": [
    "df[[\"PHYSICIAN\",\"AllergyMax_RX\"]][0:4] # df can only accept one parameter so we have given list of parameters and slower than loc and iloc"
   ]
  },
  {
   "cell_type": "code",
   "execution_count": 204,
   "metadata": {},
   "outputs": [
    {
     "data": {
      "text/html": [
       "<div>\n",
       "<style scoped>\n",
       "    .dataframe tbody tr th:only-of-type {\n",
       "        vertical-align: middle;\n",
       "    }\n",
       "\n",
       "    .dataframe tbody tr th {\n",
       "        vertical-align: top;\n",
       "    }\n",
       "\n",
       "    .dataframe thead th {\n",
       "        text-align: right;\n",
       "    }\n",
       "</style>\n",
       "<table border=\"1\" class=\"dataframe\">\n",
       "  <thead>\n",
       "    <tr style=\"text-align: right;\">\n",
       "      <th></th>\n",
       "      <th>PHYSICIAN</th>\n",
       "      <th>AllergyMax_RX</th>\n",
       "    </tr>\n",
       "  </thead>\n",
       "  <tbody>\n",
       "    <tr>\n",
       "      <th>0</th>\n",
       "      <td>AP1912920</td>\n",
       "      <td>510</td>\n",
       "    </tr>\n",
       "    <tr>\n",
       "      <th>1</th>\n",
       "      <td>AP1350415</td>\n",
       "      <td>60</td>\n",
       "    </tr>\n",
       "    <tr>\n",
       "      <th>2</th>\n",
       "      <td>AP0129322</td>\n",
       "      <td>0</td>\n",
       "    </tr>\n",
       "    <tr>\n",
       "      <th>3</th>\n",
       "      <td>AP0462902</td>\n",
       "      <td>0</td>\n",
       "    </tr>\n",
       "    <tr>\n",
       "      <th>4</th>\n",
       "      <td>AP3185026</td>\n",
       "      <td>1080</td>\n",
       "    </tr>\n",
       "  </tbody>\n",
       "</table>\n",
       "</div>"
      ],
      "text/plain": [
       "   PHYSICIAN  AllergyMax_RX\n",
       "0  AP1912920            510\n",
       "1  AP1350415             60\n",
       "2  AP0129322              0\n",
       "3  AP0462902              0\n",
       "4  AP3185026           1080"
      ]
     },
     "execution_count": 204,
     "metadata": {},
     "output_type": "execute_result"
    }
   ],
   "source": [
    "df.loc[0:4, [\"PHYSICIAN\",\"AllergyMax_RX\"]] # loc works on label"
   ]
  },
  {
   "cell_type": "code",
   "execution_count": 205,
   "metadata": {},
   "outputs": [
    {
     "data": {
      "text/html": [
       "<div>\n",
       "<style scoped>\n",
       "    .dataframe tbody tr th:only-of-type {\n",
       "        vertical-align: middle;\n",
       "    }\n",
       "\n",
       "    .dataframe tbody tr th {\n",
       "        vertical-align: top;\n",
       "    }\n",
       "\n",
       "    .dataframe thead th {\n",
       "        text-align: right;\n",
       "    }\n",
       "</style>\n",
       "<table border=\"1\" class=\"dataframe\">\n",
       "  <thead>\n",
       "    <tr style=\"text-align: right;\">\n",
       "      <th></th>\n",
       "      <th>PHYSICIAN</th>\n",
       "      <th>AllergyMax_RX</th>\n",
       "    </tr>\n",
       "  </thead>\n",
       "  <tbody>\n",
       "    <tr>\n",
       "      <th>0</th>\n",
       "      <td>AP1912920</td>\n",
       "      <td>510</td>\n",
       "    </tr>\n",
       "    <tr>\n",
       "      <th>1</th>\n",
       "      <td>AP1350415</td>\n",
       "      <td>60</td>\n",
       "    </tr>\n",
       "    <tr>\n",
       "      <th>2</th>\n",
       "      <td>AP0129322</td>\n",
       "      <td>0</td>\n",
       "    </tr>\n",
       "    <tr>\n",
       "      <th>3</th>\n",
       "      <td>AP0462902</td>\n",
       "      <td>0</td>\n",
       "    </tr>\n",
       "  </tbody>\n",
       "</table>\n",
       "</div>"
      ],
      "text/plain": [
       "   PHYSICIAN  AllergyMax_RX\n",
       "0  AP1912920            510\n",
       "1  AP1350415             60\n",
       "2  AP0129322              0\n",
       "3  AP0462902              0"
      ]
     },
     "execution_count": 205,
     "metadata": {},
     "output_type": "execute_result"
    }
   ],
   "source": [
    "df.iloc[0:4, [0,3]] #iloc works as index"
   ]
  },
  {
   "cell_type": "code",
   "execution_count": 206,
   "metadata": {},
   "outputs": [
    {
     "data": {
      "text/html": [
       "<div>\n",
       "<style scoped>\n",
       "    .dataframe tbody tr th:only-of-type {\n",
       "        vertical-align: middle;\n",
       "    }\n",
       "\n",
       "    .dataframe tbody tr th {\n",
       "        vertical-align: top;\n",
       "    }\n",
       "\n",
       "    .dataframe thead th {\n",
       "        text-align: right;\n",
       "    }\n",
       "</style>\n",
       "<table border=\"1\" class=\"dataframe\">\n",
       "  <thead>\n",
       "    <tr style=\"text-align: right;\">\n",
       "      <th></th>\n",
       "      <th>PHYSICIAN</th>\n",
       "      <th>CroMax_RX</th>\n",
       "      <th>GlycoMax_RX</th>\n",
       "    </tr>\n",
       "  </thead>\n",
       "  <tbody>\n",
       "    <tr>\n",
       "      <th>0</th>\n",
       "      <td>AP1912920</td>\n",
       "      <td>0.0</td>\n",
       "      <td>50</td>\n",
       "    </tr>\n",
       "    <tr>\n",
       "      <th>1</th>\n",
       "      <td>AP1350415</td>\n",
       "      <td>2370.0</td>\n",
       "      <td>1320</td>\n",
       "    </tr>\n",
       "    <tr>\n",
       "      <th>2</th>\n",
       "      <td>AP0129322</td>\n",
       "      <td>0.0</td>\n",
       "      <td>85</td>\n",
       "    </tr>\n",
       "    <tr>\n",
       "      <th>3</th>\n",
       "      <td>AP0462902</td>\n",
       "      <td>30.0</td>\n",
       "      <td>570</td>\n",
       "    </tr>\n",
       "  </tbody>\n",
       "</table>\n",
       "</div>"
      ],
      "text/plain": [
       "   PHYSICIAN  CroMax_RX  GlycoMax_RX\n",
       "0  AP1912920        0.0           50\n",
       "1  AP1350415     2370.0         1320\n",
       "2  AP0129322        0.0           85\n",
       "3  AP0462902       30.0          570"
      ]
     },
     "execution_count": 206,
     "metadata": {},
     "output_type": "execute_result"
    }
   ],
   "source": [
    "df.iloc[0:4, 0:3]"
   ]
  },
  {
   "cell_type": "code",
   "execution_count": 207,
   "metadata": {},
   "outputs": [
    {
     "data": {
      "text/html": [
       "<div>\n",
       "<style scoped>\n",
       "    .dataframe tbody tr th:only-of-type {\n",
       "        vertical-align: middle;\n",
       "    }\n",
       "\n",
       "    .dataframe tbody tr th {\n",
       "        vertical-align: top;\n",
       "    }\n",
       "\n",
       "    .dataframe thead th {\n",
       "        text-align: right;\n",
       "    }\n",
       "</style>\n",
       "<table border=\"1\" class=\"dataframe\">\n",
       "  <thead>\n",
       "    <tr style=\"text-align: right;\">\n",
       "      <th></th>\n",
       "      <th>PHYSICIAN</th>\n",
       "      <th>CroMax_RX</th>\n",
       "      <th>GlycoMax_RX</th>\n",
       "      <th>AllergyMax_RX</th>\n",
       "      <th>FevMax_RX</th>\n",
       "      <th>ColdMax_RX</th>\n",
       "    </tr>\n",
       "  </thead>\n",
       "  <tbody>\n",
       "    <tr>\n",
       "      <th>1</th>\n",
       "      <td>AP1350415</td>\n",
       "      <td>2370.0</td>\n",
       "      <td>1320</td>\n",
       "      <td>60</td>\n",
       "      <td>1416</td>\n",
       "      <td>2676</td>\n",
       "    </tr>\n",
       "  </tbody>\n",
       "</table>\n",
       "</div>"
      ],
      "text/plain": [
       "   PHYSICIAN  CroMax_RX  GlycoMax_RX  AllergyMax_RX  FevMax_RX  ColdMax_RX\n",
       "1  AP1350415     2370.0         1320             60       1416        2676"
      ]
     },
     "execution_count": 207,
     "metadata": {},
     "output_type": "execute_result"
    }
   ],
   "source": [
    "df[df[\"CroMax_RX\"]>2000]"
   ]
  },
  {
   "cell_type": "code",
   "execution_count": 208,
   "metadata": {},
   "outputs": [
    {
     "data": {
      "text/html": [
       "<div>\n",
       "<style scoped>\n",
       "    .dataframe tbody tr th:only-of-type {\n",
       "        vertical-align: middle;\n",
       "    }\n",
       "\n",
       "    .dataframe tbody tr th {\n",
       "        vertical-align: top;\n",
       "    }\n",
       "\n",
       "    .dataframe thead th {\n",
       "        text-align: right;\n",
       "    }\n",
       "</style>\n",
       "<table border=\"1\" class=\"dataframe\">\n",
       "  <thead>\n",
       "    <tr style=\"text-align: right;\">\n",
       "      <th></th>\n",
       "      <th>PHYSICIAN</th>\n",
       "      <th>CroMax_RX</th>\n",
       "      <th>GlycoMax_RX</th>\n",
       "      <th>AllergyMax_RX</th>\n",
       "      <th>FevMax_RX</th>\n",
       "      <th>ColdMax_RX</th>\n",
       "    </tr>\n",
       "  </thead>\n",
       "  <tbody>\n",
       "    <tr>\n",
       "      <th>1</th>\n",
       "      <td>AP1350415</td>\n",
       "      <td>2370.0</td>\n",
       "      <td>1320</td>\n",
       "      <td>60</td>\n",
       "      <td>1416</td>\n",
       "      <td>2676</td>\n",
       "    </tr>\n",
       "    <tr>\n",
       "      <th>7</th>\n",
       "      <td>NaN</td>\n",
       "      <td>150.0</td>\n",
       "      <td>315</td>\n",
       "      <td>270</td>\n",
       "      <td>184</td>\n",
       "      <td>36</td>\n",
       "    </tr>\n",
       "    <tr>\n",
       "      <th>10</th>\n",
       "      <td>AP1934892</td>\n",
       "      <td>640.0</td>\n",
       "      <td>390</td>\n",
       "      <td>0</td>\n",
       "      <td>280</td>\n",
       "      <td>0</td>\n",
       "    </tr>\n",
       "    <tr>\n",
       "      <th>14</th>\n",
       "      <td>NaN</td>\n",
       "      <td>90.0</td>\n",
       "      <td>150</td>\n",
       "      <td>0</td>\n",
       "      <td>0</td>\n",
       "      <td>204</td>\n",
       "    </tr>\n",
       "    <tr>\n",
       "      <th>16</th>\n",
       "      <td>AP0036951</td>\n",
       "      <td>330.0</td>\n",
       "      <td>525</td>\n",
       "      <td>0</td>\n",
       "      <td>0</td>\n",
       "      <td>0</td>\n",
       "    </tr>\n",
       "    <tr>\n",
       "      <th>21</th>\n",
       "      <td>AP1332969</td>\n",
       "      <td>90.0</td>\n",
       "      <td>870</td>\n",
       "      <td>0</td>\n",
       "      <td>88</td>\n",
       "      <td>24</td>\n",
       "    </tr>\n",
       "    <tr>\n",
       "      <th>22</th>\n",
       "      <td>AP2130355</td>\n",
       "      <td>160.0</td>\n",
       "      <td>145</td>\n",
       "      <td>0</td>\n",
       "      <td>0</td>\n",
       "      <td>180</td>\n",
       "    </tr>\n",
       "    <tr>\n",
       "      <th>23</th>\n",
       "      <td>AP0714887</td>\n",
       "      <td>160.0</td>\n",
       "      <td>780</td>\n",
       "      <td>615</td>\n",
       "      <td>16</td>\n",
       "      <td>2964</td>\n",
       "    </tr>\n",
       "    <tr>\n",
       "      <th>26</th>\n",
       "      <td>NaN</td>\n",
       "      <td>150.0</td>\n",
       "      <td>220</td>\n",
       "      <td>510</td>\n",
       "      <td>32</td>\n",
       "      <td>1128</td>\n",
       "    </tr>\n",
       "    <tr>\n",
       "      <th>29</th>\n",
       "      <td>AP0089696</td>\n",
       "      <td>930.0</td>\n",
       "      <td>250</td>\n",
       "      <td>3435</td>\n",
       "      <td>0</td>\n",
       "      <td>396</td>\n",
       "    </tr>\n",
       "    <tr>\n",
       "      <th>31</th>\n",
       "      <td>AP0692473</td>\n",
       "      <td>90.0</td>\n",
       "      <td>215</td>\n",
       "      <td>375</td>\n",
       "      <td>0</td>\n",
       "      <td>348</td>\n",
       "    </tr>\n",
       "    <tr>\n",
       "      <th>40</th>\n",
       "      <td>AP0438309</td>\n",
       "      <td>370.0</td>\n",
       "      <td>85</td>\n",
       "      <td>0</td>\n",
       "      <td>0</td>\n",
       "      <td>780</td>\n",
       "    </tr>\n",
       "    <tr>\n",
       "      <th>42</th>\n",
       "      <td>AP1326350</td>\n",
       "      <td>80.0</td>\n",
       "      <td>250</td>\n",
       "      <td>690</td>\n",
       "      <td>128</td>\n",
       "      <td>48</td>\n",
       "    </tr>\n",
       "    <tr>\n",
       "      <th>53</th>\n",
       "      <td>AP1976314</td>\n",
       "      <td>170.0</td>\n",
       "      <td>495</td>\n",
       "      <td>0</td>\n",
       "      <td>200</td>\n",
       "      <td>24</td>\n",
       "    </tr>\n",
       "    <tr>\n",
       "      <th>55</th>\n",
       "      <td>AP3632706</td>\n",
       "      <td>140.0</td>\n",
       "      <td>380</td>\n",
       "      <td>165</td>\n",
       "      <td>32</td>\n",
       "      <td>0</td>\n",
       "    </tr>\n",
       "    <tr>\n",
       "      <th>56</th>\n",
       "      <td>AP1871832</td>\n",
       "      <td>140.0</td>\n",
       "      <td>345</td>\n",
       "      <td>0</td>\n",
       "      <td>0</td>\n",
       "      <td>36</td>\n",
       "    </tr>\n",
       "    <tr>\n",
       "      <th>57</th>\n",
       "      <td>AP0092627</td>\n",
       "      <td>1360.0</td>\n",
       "      <td>1090</td>\n",
       "      <td>210</td>\n",
       "      <td>24</td>\n",
       "      <td>192</td>\n",
       "    </tr>\n",
       "    <tr>\n",
       "      <th>59</th>\n",
       "      <td>AP1815618</td>\n",
       "      <td>140.0</td>\n",
       "      <td>110</td>\n",
       "      <td>0</td>\n",
       "      <td>24</td>\n",
       "      <td>0</td>\n",
       "    </tr>\n",
       "    <tr>\n",
       "      <th>64</th>\n",
       "      <td>AP0093884</td>\n",
       "      <td>80.0</td>\n",
       "      <td>65</td>\n",
       "      <td>1365</td>\n",
       "      <td>0</td>\n",
       "      <td>0</td>\n",
       "    </tr>\n",
       "    <tr>\n",
       "      <th>67</th>\n",
       "      <td>AP0476079</td>\n",
       "      <td>80.0</td>\n",
       "      <td>70</td>\n",
       "      <td>75</td>\n",
       "      <td>0</td>\n",
       "      <td>0</td>\n",
       "    </tr>\n",
       "    <tr>\n",
       "      <th>68</th>\n",
       "      <td>AP1822470</td>\n",
       "      <td>120.0</td>\n",
       "      <td>330</td>\n",
       "      <td>1200</td>\n",
       "      <td>0</td>\n",
       "      <td>504</td>\n",
       "    </tr>\n",
       "    <tr>\n",
       "      <th>71</th>\n",
       "      <td>AP0118925</td>\n",
       "      <td>160.0</td>\n",
       "      <td>375</td>\n",
       "      <td>0</td>\n",
       "      <td>240</td>\n",
       "      <td>0</td>\n",
       "    </tr>\n",
       "    <tr>\n",
       "      <th>74</th>\n",
       "      <td>AP1869077</td>\n",
       "      <td>1830.0</td>\n",
       "      <td>140</td>\n",
       "      <td>0</td>\n",
       "      <td>488</td>\n",
       "      <td>72</td>\n",
       "    </tr>\n",
       "    <tr>\n",
       "      <th>76</th>\n",
       "      <td>AP1230067</td>\n",
       "      <td>110.0</td>\n",
       "      <td>70</td>\n",
       "      <td>0</td>\n",
       "      <td>0</td>\n",
       "      <td>0</td>\n",
       "    </tr>\n",
       "    <tr>\n",
       "      <th>79</th>\n",
       "      <td>AP1336198</td>\n",
       "      <td>150.0</td>\n",
       "      <td>615</td>\n",
       "      <td>0</td>\n",
       "      <td>0</td>\n",
       "      <td>0</td>\n",
       "    </tr>\n",
       "    <tr>\n",
       "      <th>82</th>\n",
       "      <td>AP1834639</td>\n",
       "      <td>270.0</td>\n",
       "      <td>1240</td>\n",
       "      <td>60</td>\n",
       "      <td>40</td>\n",
       "      <td>60</td>\n",
       "    </tr>\n",
       "    <tr>\n",
       "      <th>85</th>\n",
       "      <td>AP0478796</td>\n",
       "      <td>630.0</td>\n",
       "      <td>240</td>\n",
       "      <td>150</td>\n",
       "      <td>0</td>\n",
       "      <td>96</td>\n",
       "    </tr>\n",
       "    <tr>\n",
       "      <th>87</th>\n",
       "      <td>AP2459335</td>\n",
       "      <td>320.0</td>\n",
       "      <td>320</td>\n",
       "      <td>0</td>\n",
       "      <td>256</td>\n",
       "      <td>12</td>\n",
       "    </tr>\n",
       "    <tr>\n",
       "      <th>89</th>\n",
       "      <td>AP0433841</td>\n",
       "      <td>120.0</td>\n",
       "      <td>65</td>\n",
       "      <td>0</td>\n",
       "      <td>0</td>\n",
       "      <td>0</td>\n",
       "    </tr>\n",
       "    <tr>\n",
       "      <th>96</th>\n",
       "      <td>AP1273998</td>\n",
       "      <td>480.0</td>\n",
       "      <td>630</td>\n",
       "      <td>0</td>\n",
       "      <td>0</td>\n",
       "      <td>0</td>\n",
       "    </tr>\n",
       "  </tbody>\n",
       "</table>\n",
       "</div>"
      ],
      "text/plain": [
       "    PHYSICIAN  CroMax_RX  GlycoMax_RX  AllergyMax_RX  FevMax_RX  ColdMax_RX\n",
       "1   AP1350415     2370.0         1320             60       1416        2676\n",
       "7         NaN      150.0          315            270        184          36\n",
       "10  AP1934892      640.0          390              0        280           0\n",
       "14        NaN       90.0          150              0          0         204\n",
       "16  AP0036951      330.0          525              0          0           0\n",
       "21  AP1332969       90.0          870              0         88          24\n",
       "22  AP2130355      160.0          145              0          0         180\n",
       "23  AP0714887      160.0          780            615         16        2964\n",
       "26        NaN      150.0          220            510         32        1128\n",
       "29  AP0089696      930.0          250           3435          0         396\n",
       "31  AP0692473       90.0          215            375          0         348\n",
       "40  AP0438309      370.0           85              0          0         780\n",
       "42  AP1326350       80.0          250            690        128          48\n",
       "53  AP1976314      170.0          495              0        200          24\n",
       "55  AP3632706      140.0          380            165         32           0\n",
       "56  AP1871832      140.0          345              0          0          36\n",
       "57  AP0092627     1360.0         1090            210         24         192\n",
       "59  AP1815618      140.0          110              0         24           0\n",
       "64  AP0093884       80.0           65           1365          0           0\n",
       "67  AP0476079       80.0           70             75          0           0\n",
       "68  AP1822470      120.0          330           1200          0         504\n",
       "71  AP0118925      160.0          375              0        240           0\n",
       "74  AP1869077     1830.0          140              0        488          72\n",
       "76  AP1230067      110.0           70              0          0           0\n",
       "79  AP1336198      150.0          615              0          0           0\n",
       "82  AP1834639      270.0         1240             60         40          60\n",
       "85  AP0478796      630.0          240            150          0          96\n",
       "87  AP2459335      320.0          320              0        256          12\n",
       "89  AP0433841      120.0           65              0          0           0\n",
       "96  AP1273998      480.0          630              0          0           0"
      ]
     },
     "execution_count": 208,
     "metadata": {},
     "output_type": "execute_result"
    }
   ],
   "source": [
    "u_df = df[df[\"CroMax_RX\"]>50]\n",
    "u_df[u_df[\"GlycoMax_RX\"]>50]"
   ]
  },
  {
   "cell_type": "code",
   "execution_count": 209,
   "metadata": {},
   "outputs": [
    {
     "data": {
      "text/html": [
       "<div>\n",
       "<style scoped>\n",
       "    .dataframe tbody tr th:only-of-type {\n",
       "        vertical-align: middle;\n",
       "    }\n",
       "\n",
       "    .dataframe tbody tr th {\n",
       "        vertical-align: top;\n",
       "    }\n",
       "\n",
       "    .dataframe thead th {\n",
       "        text-align: right;\n",
       "    }\n",
       "</style>\n",
       "<table border=\"1\" class=\"dataframe\">\n",
       "  <thead>\n",
       "    <tr style=\"text-align: right;\">\n",
       "      <th></th>\n",
       "      <th>PHYSICIAN</th>\n",
       "      <th>CroMax_RX</th>\n",
       "      <th>GlycoMax_RX</th>\n",
       "      <th>AllergyMax_RX</th>\n",
       "      <th>FevMax_RX</th>\n",
       "      <th>ColdMax_RX</th>\n",
       "    </tr>\n",
       "  </thead>\n",
       "  <tbody>\n",
       "    <tr>\n",
       "      <th>1</th>\n",
       "      <td>AP1350415</td>\n",
       "      <td>2370.0</td>\n",
       "      <td>1320</td>\n",
       "      <td>60</td>\n",
       "      <td>1416</td>\n",
       "      <td>2676</td>\n",
       "    </tr>\n",
       "    <tr>\n",
       "      <th>7</th>\n",
       "      <td>NaN</td>\n",
       "      <td>150.0</td>\n",
       "      <td>315</td>\n",
       "      <td>270</td>\n",
       "      <td>184</td>\n",
       "      <td>36</td>\n",
       "    </tr>\n",
       "    <tr>\n",
       "      <th>10</th>\n",
       "      <td>AP1934892</td>\n",
       "      <td>640.0</td>\n",
       "      <td>390</td>\n",
       "      <td>0</td>\n",
       "      <td>280</td>\n",
       "      <td>0</td>\n",
       "    </tr>\n",
       "    <tr>\n",
       "      <th>14</th>\n",
       "      <td>NaN</td>\n",
       "      <td>90.0</td>\n",
       "      <td>150</td>\n",
       "      <td>0</td>\n",
       "      <td>0</td>\n",
       "      <td>204</td>\n",
       "    </tr>\n",
       "    <tr>\n",
       "      <th>16</th>\n",
       "      <td>AP0036951</td>\n",
       "      <td>330.0</td>\n",
       "      <td>525</td>\n",
       "      <td>0</td>\n",
       "      <td>0</td>\n",
       "      <td>0</td>\n",
       "    </tr>\n",
       "    <tr>\n",
       "      <th>21</th>\n",
       "      <td>AP1332969</td>\n",
       "      <td>90.0</td>\n",
       "      <td>870</td>\n",
       "      <td>0</td>\n",
       "      <td>88</td>\n",
       "      <td>24</td>\n",
       "    </tr>\n",
       "    <tr>\n",
       "      <th>22</th>\n",
       "      <td>AP2130355</td>\n",
       "      <td>160.0</td>\n",
       "      <td>145</td>\n",
       "      <td>0</td>\n",
       "      <td>0</td>\n",
       "      <td>180</td>\n",
       "    </tr>\n",
       "    <tr>\n",
       "      <th>23</th>\n",
       "      <td>AP0714887</td>\n",
       "      <td>160.0</td>\n",
       "      <td>780</td>\n",
       "      <td>615</td>\n",
       "      <td>16</td>\n",
       "      <td>2964</td>\n",
       "    </tr>\n",
       "    <tr>\n",
       "      <th>26</th>\n",
       "      <td>NaN</td>\n",
       "      <td>150.0</td>\n",
       "      <td>220</td>\n",
       "      <td>510</td>\n",
       "      <td>32</td>\n",
       "      <td>1128</td>\n",
       "    </tr>\n",
       "    <tr>\n",
       "      <th>29</th>\n",
       "      <td>AP0089696</td>\n",
       "      <td>930.0</td>\n",
       "      <td>250</td>\n",
       "      <td>3435</td>\n",
       "      <td>0</td>\n",
       "      <td>396</td>\n",
       "    </tr>\n",
       "    <tr>\n",
       "      <th>31</th>\n",
       "      <td>AP0692473</td>\n",
       "      <td>90.0</td>\n",
       "      <td>215</td>\n",
       "      <td>375</td>\n",
       "      <td>0</td>\n",
       "      <td>348</td>\n",
       "    </tr>\n",
       "    <tr>\n",
       "      <th>40</th>\n",
       "      <td>AP0438309</td>\n",
       "      <td>370.0</td>\n",
       "      <td>85</td>\n",
       "      <td>0</td>\n",
       "      <td>0</td>\n",
       "      <td>780</td>\n",
       "    </tr>\n",
       "    <tr>\n",
       "      <th>42</th>\n",
       "      <td>AP1326350</td>\n",
       "      <td>80.0</td>\n",
       "      <td>250</td>\n",
       "      <td>690</td>\n",
       "      <td>128</td>\n",
       "      <td>48</td>\n",
       "    </tr>\n",
       "    <tr>\n",
       "      <th>53</th>\n",
       "      <td>AP1976314</td>\n",
       "      <td>170.0</td>\n",
       "      <td>495</td>\n",
       "      <td>0</td>\n",
       "      <td>200</td>\n",
       "      <td>24</td>\n",
       "    </tr>\n",
       "    <tr>\n",
       "      <th>55</th>\n",
       "      <td>AP3632706</td>\n",
       "      <td>140.0</td>\n",
       "      <td>380</td>\n",
       "      <td>165</td>\n",
       "      <td>32</td>\n",
       "      <td>0</td>\n",
       "    </tr>\n",
       "    <tr>\n",
       "      <th>56</th>\n",
       "      <td>AP1871832</td>\n",
       "      <td>140.0</td>\n",
       "      <td>345</td>\n",
       "      <td>0</td>\n",
       "      <td>0</td>\n",
       "      <td>36</td>\n",
       "    </tr>\n",
       "    <tr>\n",
       "      <th>57</th>\n",
       "      <td>AP0092627</td>\n",
       "      <td>1360.0</td>\n",
       "      <td>1090</td>\n",
       "      <td>210</td>\n",
       "      <td>24</td>\n",
       "      <td>192</td>\n",
       "    </tr>\n",
       "    <tr>\n",
       "      <th>59</th>\n",
       "      <td>AP1815618</td>\n",
       "      <td>140.0</td>\n",
       "      <td>110</td>\n",
       "      <td>0</td>\n",
       "      <td>24</td>\n",
       "      <td>0</td>\n",
       "    </tr>\n",
       "    <tr>\n",
       "      <th>64</th>\n",
       "      <td>AP0093884</td>\n",
       "      <td>80.0</td>\n",
       "      <td>65</td>\n",
       "      <td>1365</td>\n",
       "      <td>0</td>\n",
       "      <td>0</td>\n",
       "    </tr>\n",
       "    <tr>\n",
       "      <th>67</th>\n",
       "      <td>AP0476079</td>\n",
       "      <td>80.0</td>\n",
       "      <td>70</td>\n",
       "      <td>75</td>\n",
       "      <td>0</td>\n",
       "      <td>0</td>\n",
       "    </tr>\n",
       "    <tr>\n",
       "      <th>68</th>\n",
       "      <td>AP1822470</td>\n",
       "      <td>120.0</td>\n",
       "      <td>330</td>\n",
       "      <td>1200</td>\n",
       "      <td>0</td>\n",
       "      <td>504</td>\n",
       "    </tr>\n",
       "    <tr>\n",
       "      <th>71</th>\n",
       "      <td>AP0118925</td>\n",
       "      <td>160.0</td>\n",
       "      <td>375</td>\n",
       "      <td>0</td>\n",
       "      <td>240</td>\n",
       "      <td>0</td>\n",
       "    </tr>\n",
       "    <tr>\n",
       "      <th>74</th>\n",
       "      <td>AP1869077</td>\n",
       "      <td>1830.0</td>\n",
       "      <td>140</td>\n",
       "      <td>0</td>\n",
       "      <td>488</td>\n",
       "      <td>72</td>\n",
       "    </tr>\n",
       "    <tr>\n",
       "      <th>76</th>\n",
       "      <td>AP1230067</td>\n",
       "      <td>110.0</td>\n",
       "      <td>70</td>\n",
       "      <td>0</td>\n",
       "      <td>0</td>\n",
       "      <td>0</td>\n",
       "    </tr>\n",
       "    <tr>\n",
       "      <th>79</th>\n",
       "      <td>AP1336198</td>\n",
       "      <td>150.0</td>\n",
       "      <td>615</td>\n",
       "      <td>0</td>\n",
       "      <td>0</td>\n",
       "      <td>0</td>\n",
       "    </tr>\n",
       "    <tr>\n",
       "      <th>82</th>\n",
       "      <td>AP1834639</td>\n",
       "      <td>270.0</td>\n",
       "      <td>1240</td>\n",
       "      <td>60</td>\n",
       "      <td>40</td>\n",
       "      <td>60</td>\n",
       "    </tr>\n",
       "    <tr>\n",
       "      <th>85</th>\n",
       "      <td>AP0478796</td>\n",
       "      <td>630.0</td>\n",
       "      <td>240</td>\n",
       "      <td>150</td>\n",
       "      <td>0</td>\n",
       "      <td>96</td>\n",
       "    </tr>\n",
       "    <tr>\n",
       "      <th>87</th>\n",
       "      <td>AP2459335</td>\n",
       "      <td>320.0</td>\n",
       "      <td>320</td>\n",
       "      <td>0</td>\n",
       "      <td>256</td>\n",
       "      <td>12</td>\n",
       "    </tr>\n",
       "    <tr>\n",
       "      <th>89</th>\n",
       "      <td>AP0433841</td>\n",
       "      <td>120.0</td>\n",
       "      <td>65</td>\n",
       "      <td>0</td>\n",
       "      <td>0</td>\n",
       "      <td>0</td>\n",
       "    </tr>\n",
       "    <tr>\n",
       "      <th>96</th>\n",
       "      <td>AP1273998</td>\n",
       "      <td>480.0</td>\n",
       "      <td>630</td>\n",
       "      <td>0</td>\n",
       "      <td>0</td>\n",
       "      <td>0</td>\n",
       "    </tr>\n",
       "  </tbody>\n",
       "</table>\n",
       "</div>"
      ],
      "text/plain": [
       "    PHYSICIAN  CroMax_RX  GlycoMax_RX  AllergyMax_RX  FevMax_RX  ColdMax_RX\n",
       "1   AP1350415     2370.0         1320             60       1416        2676\n",
       "7         NaN      150.0          315            270        184          36\n",
       "10  AP1934892      640.0          390              0        280           0\n",
       "14        NaN       90.0          150              0          0         204\n",
       "16  AP0036951      330.0          525              0          0           0\n",
       "21  AP1332969       90.0          870              0         88          24\n",
       "22  AP2130355      160.0          145              0          0         180\n",
       "23  AP0714887      160.0          780            615         16        2964\n",
       "26        NaN      150.0          220            510         32        1128\n",
       "29  AP0089696      930.0          250           3435          0         396\n",
       "31  AP0692473       90.0          215            375          0         348\n",
       "40  AP0438309      370.0           85              0          0         780\n",
       "42  AP1326350       80.0          250            690        128          48\n",
       "53  AP1976314      170.0          495              0        200          24\n",
       "55  AP3632706      140.0          380            165         32           0\n",
       "56  AP1871832      140.0          345              0          0          36\n",
       "57  AP0092627     1360.0         1090            210         24         192\n",
       "59  AP1815618      140.0          110              0         24           0\n",
       "64  AP0093884       80.0           65           1365          0           0\n",
       "67  AP0476079       80.0           70             75          0           0\n",
       "68  AP1822470      120.0          330           1200          0         504\n",
       "71  AP0118925      160.0          375              0        240           0\n",
       "74  AP1869077     1830.0          140              0        488          72\n",
       "76  AP1230067      110.0           70              0          0           0\n",
       "79  AP1336198      150.0          615              0          0           0\n",
       "82  AP1834639      270.0         1240             60         40          60\n",
       "85  AP0478796      630.0          240            150          0          96\n",
       "87  AP2459335      320.0          320              0        256          12\n",
       "89  AP0433841      120.0           65              0          0           0\n",
       "96  AP1273998      480.0          630              0          0           0"
      ]
     },
     "execution_count": 209,
     "metadata": {},
     "output_type": "execute_result"
    }
   ],
   "source": [
    "df[(df[\"CroMax_RX\"]>50) & (df[\"GlycoMax_RX\"]>50)]"
   ]
  },
  {
   "cell_type": "code",
   "execution_count": 210,
   "metadata": {},
   "outputs": [
    {
     "data": {
      "text/plain": [
       "30"
      ]
     },
     "execution_count": 210,
     "metadata": {},
     "output_type": "execute_result"
    }
   ],
   "source": [
    "len(df[(df[\"CroMax_RX\"]>50) & (df[\"GlycoMax_RX\"]>50)][\"PHYSICIAN\"])"
   ]
  },
  {
   "cell_type": "code",
   "execution_count": 211,
   "metadata": {},
   "outputs": [
    {
     "data": {
      "text/plain": [
       "'AP1912920'"
      ]
     },
     "execution_count": 211,
     "metadata": {},
     "output_type": "execute_result"
    }
   ],
   "source": [
    "df.iloc[0,0]"
   ]
  },
  {
   "cell_type": "code",
   "execution_count": 212,
   "metadata": {},
   "outputs": [
    {
     "data": {
      "text/html": [
       "<div>\n",
       "<style scoped>\n",
       "    .dataframe tbody tr th:only-of-type {\n",
       "        vertical-align: middle;\n",
       "    }\n",
       "\n",
       "    .dataframe tbody tr th {\n",
       "        vertical-align: top;\n",
       "    }\n",
       "\n",
       "    .dataframe thead th {\n",
       "        text-align: right;\n",
       "    }\n",
       "</style>\n",
       "<table border=\"1\" class=\"dataframe\">\n",
       "  <thead>\n",
       "    <tr style=\"text-align: right;\">\n",
       "      <th></th>\n",
       "      <th>PHYSICIAN</th>\n",
       "    </tr>\n",
       "  </thead>\n",
       "  <tbody>\n",
       "    <tr>\n",
       "      <th>0</th>\n",
       "      <td>AP1912920</td>\n",
       "    </tr>\n",
       "  </tbody>\n",
       "</table>\n",
       "</div>"
      ],
      "text/plain": [
       "   PHYSICIAN\n",
       "0  AP1912920"
      ]
     },
     "execution_count": 212,
     "metadata": {},
     "output_type": "execute_result"
    }
   ],
   "source": [
    "df.iloc[0:1,0:1]"
   ]
  },
  {
   "cell_type": "code",
   "execution_count": 213,
   "metadata": {},
   "outputs": [
    {
     "data": {
      "text/plain": [
       "'AP1912920'"
      ]
     },
     "execution_count": 213,
     "metadata": {},
     "output_type": "execute_result"
    }
   ],
   "source": [
    "df.iat[0,0] # Prefered to select single cell(fastest way to select)"
   ]
  },
  {
   "cell_type": "code",
   "execution_count": 214,
   "metadata": {},
   "outputs": [
    {
     "data": {
      "text/plain": [
       "'AP1912920'"
      ]
     },
     "execution_count": 214,
     "metadata": {},
     "output_type": "execute_result"
    }
   ],
   "source": [
    "df.at[0,\"PHYSICIAN\"]"
   ]
  },
  {
   "cell_type": "code",
   "execution_count": 215,
   "metadata": {},
   "outputs": [
    {
     "data": {
      "text/plain": [
       "PHYSICIAN        4\n",
       "CroMax_RX        4\n",
       "GlycoMax_RX      0\n",
       "AllergyMax_RX    0\n",
       "FevMax_RX        0\n",
       "ColdMax_RX       0\n",
       "dtype: int64"
      ]
     },
     "execution_count": 215,
     "metadata": {},
     "output_type": "execute_result"
    }
   ],
   "source": [
    "df.isnull().sum()"
   ]
  },
  {
   "cell_type": "code",
   "execution_count": 216,
   "metadata": {},
   "outputs": [
    {
     "data": {
      "text/html": [
       "<div>\n",
       "<style scoped>\n",
       "    .dataframe tbody tr th:only-of-type {\n",
       "        vertical-align: middle;\n",
       "    }\n",
       "\n",
       "    .dataframe tbody tr th {\n",
       "        vertical-align: top;\n",
       "    }\n",
       "\n",
       "    .dataframe thead th {\n",
       "        text-align: right;\n",
       "    }\n",
       "</style>\n",
       "<table border=\"1\" class=\"dataframe\">\n",
       "  <thead>\n",
       "    <tr style=\"text-align: right;\">\n",
       "      <th></th>\n",
       "      <th>PHYSICIAN</th>\n",
       "      <th>CroMax_RX</th>\n",
       "      <th>GlycoMax_RX</th>\n",
       "      <th>AllergyMax_RX</th>\n",
       "      <th>FevMax_RX</th>\n",
       "      <th>ColdMax_RX</th>\n",
       "    </tr>\n",
       "  </thead>\n",
       "  <tbody>\n",
       "    <tr>\n",
       "      <th>33</th>\n",
       "      <td>AP0464297</td>\n",
       "      <td>NaN</td>\n",
       "      <td>405</td>\n",
       "      <td>0</td>\n",
       "      <td>0</td>\n",
       "      <td>36</td>\n",
       "    </tr>\n",
       "    <tr>\n",
       "      <th>48</th>\n",
       "      <td>AP1948690</td>\n",
       "      <td>NaN</td>\n",
       "      <td>105</td>\n",
       "      <td>690</td>\n",
       "      <td>8</td>\n",
       "      <td>0</td>\n",
       "    </tr>\n",
       "    <tr>\n",
       "      <th>65</th>\n",
       "      <td>AP2102094</td>\n",
       "      <td>NaN</td>\n",
       "      <td>220</td>\n",
       "      <td>0</td>\n",
       "      <td>432</td>\n",
       "      <td>216</td>\n",
       "    </tr>\n",
       "    <tr>\n",
       "      <th>88</th>\n",
       "      <td>AP0812453</td>\n",
       "      <td>NaN</td>\n",
       "      <td>45</td>\n",
       "      <td>0</td>\n",
       "      <td>0</td>\n",
       "      <td>264</td>\n",
       "    </tr>\n",
       "  </tbody>\n",
       "</table>\n",
       "</div>"
      ],
      "text/plain": [
       "    PHYSICIAN  CroMax_RX  GlycoMax_RX  AllergyMax_RX  FevMax_RX  ColdMax_RX\n",
       "33  AP0464297        NaN          405              0          0          36\n",
       "48  AP1948690        NaN          105            690          8           0\n",
       "65  AP2102094        NaN          220              0        432         216\n",
       "88  AP0812453        NaN           45              0          0         264"
      ]
     },
     "execution_count": 216,
     "metadata": {},
     "output_type": "execute_result"
    }
   ],
   "source": [
    "df[df[\"CroMax_RX\"].isnull()]"
   ]
  },
  {
   "cell_type": "code",
   "execution_count": 217,
   "metadata": {},
   "outputs": [],
   "source": [
    "df[\"CroMax_RX\"] = df[\"CroMax_RX\"].fillna(0) # filling null values to default values that is 0"
   ]
  },
  {
   "cell_type": "code",
   "execution_count": 218,
   "metadata": {},
   "outputs": [
    {
     "data": {
      "text/html": [
       "<div>\n",
       "<style scoped>\n",
       "    .dataframe tbody tr th:only-of-type {\n",
       "        vertical-align: middle;\n",
       "    }\n",
       "\n",
       "    .dataframe tbody tr th {\n",
       "        vertical-align: top;\n",
       "    }\n",
       "\n",
       "    .dataframe thead th {\n",
       "        text-align: right;\n",
       "    }\n",
       "</style>\n",
       "<table border=\"1\" class=\"dataframe\">\n",
       "  <thead>\n",
       "    <tr style=\"text-align: right;\">\n",
       "      <th></th>\n",
       "      <th>PHYSICIAN</th>\n",
       "      <th>CroMax_RX</th>\n",
       "      <th>GlycoMax_RX</th>\n",
       "      <th>AllergyMax_RX</th>\n",
       "      <th>FevMax_RX</th>\n",
       "      <th>ColdMax_RX</th>\n",
       "    </tr>\n",
       "  </thead>\n",
       "  <tbody>\n",
       "  </tbody>\n",
       "</table>\n",
       "</div>"
      ],
      "text/plain": [
       "Empty DataFrame\n",
       "Columns: [PHYSICIAN, CroMax_RX, GlycoMax_RX, AllergyMax_RX, FevMax_RX, ColdMax_RX]\n",
       "Index: []"
      ]
     },
     "execution_count": 218,
     "metadata": {},
     "output_type": "execute_result"
    }
   ],
   "source": [
    "df[df[\"CroMax_RX\"].isnull()]"
   ]
  },
  {
   "cell_type": "code",
   "execution_count": 219,
   "metadata": {},
   "outputs": [
    {
     "data": {
      "text/plain": [
       "PHYSICIAN        4\n",
       "CroMax_RX        0\n",
       "GlycoMax_RX      0\n",
       "AllergyMax_RX    0\n",
       "FevMax_RX        0\n",
       "ColdMax_RX       0\n",
       "dtype: int64"
      ]
     },
     "execution_count": 219,
     "metadata": {},
     "output_type": "execute_result"
    }
   ],
   "source": [
    "df.isnull().sum()"
   ]
  },
  {
   "cell_type": "code",
   "execution_count": 220,
   "metadata": {},
   "outputs": [],
   "source": [
    "df = df.dropna()"
   ]
  },
  {
   "cell_type": "code",
   "execution_count": 221,
   "metadata": {},
   "outputs": [
    {
     "data": {
      "text/plain": [
       "PHYSICIAN        0\n",
       "CroMax_RX        0\n",
       "GlycoMax_RX      0\n",
       "AllergyMax_RX    0\n",
       "FevMax_RX        0\n",
       "ColdMax_RX       0\n",
       "dtype: int64"
      ]
     },
     "execution_count": 221,
     "metadata": {},
     "output_type": "execute_result"
    }
   ],
   "source": [
    "df.isnull().sum()"
   ]
  },
  {
   "cell_type": "code",
   "execution_count": 222,
   "metadata": {},
   "outputs": [
    {
     "data": {
      "text/plain": [
       "96"
      ]
     },
     "execution_count": 222,
     "metadata": {},
     "output_type": "execute_result"
    }
   ],
   "source": [
    "len(df)"
   ]
  },
  {
   "cell_type": "code",
   "execution_count": 223,
   "metadata": {},
   "outputs": [],
   "source": [
    "df.columns = ['PHYS', 'CroMax_RX', 'GlycoMax_RX', 'AllergyMax_RX', 'FevMax_RX',\n",
    "       'ColdMax_RX'] # rename a column"
   ]
  },
  {
   "cell_type": "code",
   "execution_count": 224,
   "metadata": {},
   "outputs": [
    {
     "data": {
      "text/html": [
       "<div>\n",
       "<style scoped>\n",
       "    .dataframe tbody tr th:only-of-type {\n",
       "        vertical-align: middle;\n",
       "    }\n",
       "\n",
       "    .dataframe tbody tr th {\n",
       "        vertical-align: top;\n",
       "    }\n",
       "\n",
       "    .dataframe thead th {\n",
       "        text-align: right;\n",
       "    }\n",
       "</style>\n",
       "<table border=\"1\" class=\"dataframe\">\n",
       "  <thead>\n",
       "    <tr style=\"text-align: right;\">\n",
       "      <th></th>\n",
       "      <th>PHYS</th>\n",
       "      <th>CroMax_RX</th>\n",
       "      <th>GlycoMax_RX</th>\n",
       "      <th>AllergyMax_RX</th>\n",
       "      <th>FevMax_RX</th>\n",
       "      <th>ColdMax_RX</th>\n",
       "    </tr>\n",
       "  </thead>\n",
       "  <tbody>\n",
       "    <tr>\n",
       "      <th>0</th>\n",
       "      <td>AP1912920</td>\n",
       "      <td>0.0</td>\n",
       "      <td>50</td>\n",
       "      <td>510</td>\n",
       "      <td>152</td>\n",
       "      <td>0</td>\n",
       "    </tr>\n",
       "    <tr>\n",
       "      <th>1</th>\n",
       "      <td>AP1350415</td>\n",
       "      <td>2370.0</td>\n",
       "      <td>1320</td>\n",
       "      <td>60</td>\n",
       "      <td>1416</td>\n",
       "      <td>2676</td>\n",
       "    </tr>\n",
       "    <tr>\n",
       "      <th>2</th>\n",
       "      <td>AP0129322</td>\n",
       "      <td>0.0</td>\n",
       "      <td>85</td>\n",
       "      <td>0</td>\n",
       "      <td>0</td>\n",
       "      <td>144</td>\n",
       "    </tr>\n",
       "    <tr>\n",
       "      <th>3</th>\n",
       "      <td>AP0462902</td>\n",
       "      <td>30.0</td>\n",
       "      <td>570</td>\n",
       "      <td>0</td>\n",
       "      <td>128</td>\n",
       "      <td>3900</td>\n",
       "    </tr>\n",
       "    <tr>\n",
       "      <th>4</th>\n",
       "      <td>AP3185026</td>\n",
       "      <td>0.0</td>\n",
       "      <td>40</td>\n",
       "      <td>1080</td>\n",
       "      <td>0</td>\n",
       "      <td>0</td>\n",
       "    </tr>\n",
       "  </tbody>\n",
       "</table>\n",
       "</div>"
      ],
      "text/plain": [
       "        PHYS  CroMax_RX  GlycoMax_RX  AllergyMax_RX  FevMax_RX  ColdMax_RX\n",
       "0  AP1912920        0.0           50            510        152           0\n",
       "1  AP1350415     2370.0         1320             60       1416        2676\n",
       "2  AP0129322        0.0           85              0          0         144\n",
       "3  AP0462902       30.0          570              0        128        3900\n",
       "4  AP3185026        0.0           40           1080          0           0"
      ]
     },
     "execution_count": 224,
     "metadata": {},
     "output_type": "execute_result"
    }
   ],
   "source": [
    "df.head()"
   ]
  },
  {
   "cell_type": "code",
   "execution_count": 225,
   "metadata": {},
   "outputs": [],
   "source": [
    "df =df.rename(columns={'PHYS':'physician'})"
   ]
  },
  {
   "cell_type": "code",
   "execution_count": 226,
   "metadata": {},
   "outputs": [
    {
     "data": {
      "text/html": [
       "<div>\n",
       "<style scoped>\n",
       "    .dataframe tbody tr th:only-of-type {\n",
       "        vertical-align: middle;\n",
       "    }\n",
       "\n",
       "    .dataframe tbody tr th {\n",
       "        vertical-align: top;\n",
       "    }\n",
       "\n",
       "    .dataframe thead th {\n",
       "        text-align: right;\n",
       "    }\n",
       "</style>\n",
       "<table border=\"1\" class=\"dataframe\">\n",
       "  <thead>\n",
       "    <tr style=\"text-align: right;\">\n",
       "      <th></th>\n",
       "      <th>physician</th>\n",
       "      <th>CroMax_RX</th>\n",
       "      <th>GlycoMax_RX</th>\n",
       "      <th>AllergyMax_RX</th>\n",
       "      <th>FevMax_RX</th>\n",
       "      <th>ColdMax_RX</th>\n",
       "    </tr>\n",
       "  </thead>\n",
       "  <tbody>\n",
       "    <tr>\n",
       "      <th>0</th>\n",
       "      <td>AP1912920</td>\n",
       "      <td>0.0</td>\n",
       "      <td>50</td>\n",
       "      <td>510</td>\n",
       "      <td>152</td>\n",
       "      <td>0</td>\n",
       "    </tr>\n",
       "    <tr>\n",
       "      <th>1</th>\n",
       "      <td>AP1350415</td>\n",
       "      <td>2370.0</td>\n",
       "      <td>1320</td>\n",
       "      <td>60</td>\n",
       "      <td>1416</td>\n",
       "      <td>2676</td>\n",
       "    </tr>\n",
       "    <tr>\n",
       "      <th>2</th>\n",
       "      <td>AP0129322</td>\n",
       "      <td>0.0</td>\n",
       "      <td>85</td>\n",
       "      <td>0</td>\n",
       "      <td>0</td>\n",
       "      <td>144</td>\n",
       "    </tr>\n",
       "    <tr>\n",
       "      <th>3</th>\n",
       "      <td>AP0462902</td>\n",
       "      <td>30.0</td>\n",
       "      <td>570</td>\n",
       "      <td>0</td>\n",
       "      <td>128</td>\n",
       "      <td>3900</td>\n",
       "    </tr>\n",
       "    <tr>\n",
       "      <th>4</th>\n",
       "      <td>AP3185026</td>\n",
       "      <td>0.0</td>\n",
       "      <td>40</td>\n",
       "      <td>1080</td>\n",
       "      <td>0</td>\n",
       "      <td>0</td>\n",
       "    </tr>\n",
       "  </tbody>\n",
       "</table>\n",
       "</div>"
      ],
      "text/plain": [
       "   physician  CroMax_RX  GlycoMax_RX  AllergyMax_RX  FevMax_RX  ColdMax_RX\n",
       "0  AP1912920        0.0           50            510        152           0\n",
       "1  AP1350415     2370.0         1320             60       1416        2676\n",
       "2  AP0129322        0.0           85              0          0         144\n",
       "3  AP0462902       30.0          570              0        128        3900\n",
       "4  AP3185026        0.0           40           1080          0           0"
      ]
     },
     "execution_count": 226,
     "metadata": {},
     "output_type": "execute_result"
    }
   ],
   "source": [
    "df.head()"
   ]
  },
  {
   "cell_type": "code",
   "execution_count": 227,
   "metadata": {},
   "outputs": [
    {
     "data": {
      "text/plain": [
       "'hezzo worzd'"
      ]
     },
     "execution_count": 227,
     "metadata": {},
     "output_type": "execute_result"
    }
   ],
   "source": [
    "\"hello world\".replace(\"l\",\"z\")"
   ]
  },
  {
   "cell_type": "code",
   "execution_count": 228,
   "metadata": {},
   "outputs": [],
   "source": [
    "df.columns =df.columns.str.replace(\"_\",\".\")"
   ]
  },
  {
   "cell_type": "code",
   "execution_count": 229,
   "metadata": {},
   "outputs": [
    {
     "data": {
      "text/html": [
       "<div>\n",
       "<style scoped>\n",
       "    .dataframe tbody tr th:only-of-type {\n",
       "        vertical-align: middle;\n",
       "    }\n",
       "\n",
       "    .dataframe tbody tr th {\n",
       "        vertical-align: top;\n",
       "    }\n",
       "\n",
       "    .dataframe thead th {\n",
       "        text-align: right;\n",
       "    }\n",
       "</style>\n",
       "<table border=\"1\" class=\"dataframe\">\n",
       "  <thead>\n",
       "    <tr style=\"text-align: right;\">\n",
       "      <th></th>\n",
       "      <th>physician</th>\n",
       "      <th>CroMax.RX</th>\n",
       "      <th>GlycoMax.RX</th>\n",
       "      <th>AllergyMax.RX</th>\n",
       "      <th>FevMax.RX</th>\n",
       "      <th>ColdMax.RX</th>\n",
       "    </tr>\n",
       "  </thead>\n",
       "  <tbody>\n",
       "    <tr>\n",
       "      <th>0</th>\n",
       "      <td>AP1912920</td>\n",
       "      <td>0.0</td>\n",
       "      <td>50</td>\n",
       "      <td>510</td>\n",
       "      <td>152</td>\n",
       "      <td>0</td>\n",
       "    </tr>\n",
       "    <tr>\n",
       "      <th>1</th>\n",
       "      <td>AP1350415</td>\n",
       "      <td>2370.0</td>\n",
       "      <td>1320</td>\n",
       "      <td>60</td>\n",
       "      <td>1416</td>\n",
       "      <td>2676</td>\n",
       "    </tr>\n",
       "    <tr>\n",
       "      <th>2</th>\n",
       "      <td>AP0129322</td>\n",
       "      <td>0.0</td>\n",
       "      <td>85</td>\n",
       "      <td>0</td>\n",
       "      <td>0</td>\n",
       "      <td>144</td>\n",
       "    </tr>\n",
       "    <tr>\n",
       "      <th>3</th>\n",
       "      <td>AP0462902</td>\n",
       "      <td>30.0</td>\n",
       "      <td>570</td>\n",
       "      <td>0</td>\n",
       "      <td>128</td>\n",
       "      <td>3900</td>\n",
       "    </tr>\n",
       "    <tr>\n",
       "      <th>4</th>\n",
       "      <td>AP3185026</td>\n",
       "      <td>0.0</td>\n",
       "      <td>40</td>\n",
       "      <td>1080</td>\n",
       "      <td>0</td>\n",
       "      <td>0</td>\n",
       "    </tr>\n",
       "  </tbody>\n",
       "</table>\n",
       "</div>"
      ],
      "text/plain": [
       "   physician  CroMax.RX  GlycoMax.RX  AllergyMax.RX  FevMax.RX  ColdMax.RX\n",
       "0  AP1912920        0.0           50            510        152           0\n",
       "1  AP1350415     2370.0         1320             60       1416        2676\n",
       "2  AP0129322        0.0           85              0          0         144\n",
       "3  AP0462902       30.0          570              0        128        3900\n",
       "4  AP3185026        0.0           40           1080          0           0"
      ]
     },
     "execution_count": 229,
     "metadata": {},
     "output_type": "execute_result"
    }
   ],
   "source": [
    "df.head()"
   ]
  },
  {
   "cell_type": "code",
   "execution_count": 232,
   "metadata": {},
   "outputs": [],
   "source": [
    "df[\"physician\"] = df[\"physician\"].str.replace(\"AP\",\"AB\")"
   ]
  },
  {
   "cell_type": "code",
   "execution_count": 233,
   "metadata": {},
   "outputs": [
    {
     "data": {
      "text/html": [
       "<div>\n",
       "<style scoped>\n",
       "    .dataframe tbody tr th:only-of-type {\n",
       "        vertical-align: middle;\n",
       "    }\n",
       "\n",
       "    .dataframe tbody tr th {\n",
       "        vertical-align: top;\n",
       "    }\n",
       "\n",
       "    .dataframe thead th {\n",
       "        text-align: right;\n",
       "    }\n",
       "</style>\n",
       "<table border=\"1\" class=\"dataframe\">\n",
       "  <thead>\n",
       "    <tr style=\"text-align: right;\">\n",
       "      <th></th>\n",
       "      <th>physician</th>\n",
       "      <th>CroMax.RX</th>\n",
       "      <th>GlycoMax.RX</th>\n",
       "      <th>AllergyMax.RX</th>\n",
       "      <th>FevMax.RX</th>\n",
       "      <th>ColdMax.RX</th>\n",
       "    </tr>\n",
       "  </thead>\n",
       "  <tbody>\n",
       "    <tr>\n",
       "      <th>0</th>\n",
       "      <td>AB1912920</td>\n",
       "      <td>0.0</td>\n",
       "      <td>50</td>\n",
       "      <td>510</td>\n",
       "      <td>152</td>\n",
       "      <td>0</td>\n",
       "    </tr>\n",
       "    <tr>\n",
       "      <th>1</th>\n",
       "      <td>AB1350415</td>\n",
       "      <td>2370.0</td>\n",
       "      <td>1320</td>\n",
       "      <td>60</td>\n",
       "      <td>1416</td>\n",
       "      <td>2676</td>\n",
       "    </tr>\n",
       "    <tr>\n",
       "      <th>2</th>\n",
       "      <td>AB0129322</td>\n",
       "      <td>0.0</td>\n",
       "      <td>85</td>\n",
       "      <td>0</td>\n",
       "      <td>0</td>\n",
       "      <td>144</td>\n",
       "    </tr>\n",
       "    <tr>\n",
       "      <th>3</th>\n",
       "      <td>AB0462902</td>\n",
       "      <td>30.0</td>\n",
       "      <td>570</td>\n",
       "      <td>0</td>\n",
       "      <td>128</td>\n",
       "      <td>3900</td>\n",
       "    </tr>\n",
       "    <tr>\n",
       "      <th>4</th>\n",
       "      <td>AB3185026</td>\n",
       "      <td>0.0</td>\n",
       "      <td>40</td>\n",
       "      <td>1080</td>\n",
       "      <td>0</td>\n",
       "      <td>0</td>\n",
       "    </tr>\n",
       "  </tbody>\n",
       "</table>\n",
       "</div>"
      ],
      "text/plain": [
       "   physician  CroMax.RX  GlycoMax.RX  AllergyMax.RX  FevMax.RX  ColdMax.RX\n",
       "0  AB1912920        0.0           50            510        152           0\n",
       "1  AB1350415     2370.0         1320             60       1416        2676\n",
       "2  AB0129322        0.0           85              0          0         144\n",
       "3  AB0462902       30.0          570              0        128        3900\n",
       "4  AB3185026        0.0           40           1080          0           0"
      ]
     },
     "execution_count": 233,
     "metadata": {},
     "output_type": "execute_result"
    }
   ],
   "source": [
    "df.head()"
   ]
  },
  {
   "cell_type": "code",
   "execution_count": 249,
   "metadata": {},
   "outputs": [],
   "source": [
    "df[\"BUCKET\"] = \"B1\""
   ]
  },
  {
   "cell_type": "code",
   "execution_count": 250,
   "metadata": {},
   "outputs": [
    {
     "data": {
      "text/html": [
       "<div>\n",
       "<style scoped>\n",
       "    .dataframe tbody tr th:only-of-type {\n",
       "        vertical-align: middle;\n",
       "    }\n",
       "\n",
       "    .dataframe tbody tr th {\n",
       "        vertical-align: top;\n",
       "    }\n",
       "\n",
       "    .dataframe thead th {\n",
       "        text-align: right;\n",
       "    }\n",
       "</style>\n",
       "<table border=\"1\" class=\"dataframe\">\n",
       "  <thead>\n",
       "    <tr style=\"text-align: right;\">\n",
       "      <th></th>\n",
       "      <th>physician</th>\n",
       "      <th>CroMax.RX</th>\n",
       "      <th>GlycoMax.RX</th>\n",
       "      <th>AllergyMax.RX</th>\n",
       "      <th>FevMax.RX</th>\n",
       "      <th>ColdMax.RX</th>\n",
       "      <th>BUCKET</th>\n",
       "    </tr>\n",
       "  </thead>\n",
       "  <tbody>\n",
       "    <tr>\n",
       "      <th>0</th>\n",
       "      <td>AB1912920</td>\n",
       "      <td>0.0</td>\n",
       "      <td>50</td>\n",
       "      <td>510</td>\n",
       "      <td>152</td>\n",
       "      <td>0</td>\n",
       "      <td>B1</td>\n",
       "    </tr>\n",
       "    <tr>\n",
       "      <th>1</th>\n",
       "      <td>AB1350415</td>\n",
       "      <td>2370.0</td>\n",
       "      <td>1320</td>\n",
       "      <td>60</td>\n",
       "      <td>1416</td>\n",
       "      <td>2676</td>\n",
       "      <td>B1</td>\n",
       "    </tr>\n",
       "    <tr>\n",
       "      <th>2</th>\n",
       "      <td>AB0129322</td>\n",
       "      <td>0.0</td>\n",
       "      <td>85</td>\n",
       "      <td>0</td>\n",
       "      <td>0</td>\n",
       "      <td>144</td>\n",
       "      <td>B1</td>\n",
       "    </tr>\n",
       "    <tr>\n",
       "      <th>3</th>\n",
       "      <td>AB0462902</td>\n",
       "      <td>30.0</td>\n",
       "      <td>570</td>\n",
       "      <td>0</td>\n",
       "      <td>128</td>\n",
       "      <td>3900</td>\n",
       "      <td>B1</td>\n",
       "    </tr>\n",
       "    <tr>\n",
       "      <th>4</th>\n",
       "      <td>AB3185026</td>\n",
       "      <td>0.0</td>\n",
       "      <td>40</td>\n",
       "      <td>1080</td>\n",
       "      <td>0</td>\n",
       "      <td>0</td>\n",
       "      <td>B1</td>\n",
       "    </tr>\n",
       "  </tbody>\n",
       "</table>\n",
       "</div>"
      ],
      "text/plain": [
       "   physician  CroMax.RX  GlycoMax.RX  AllergyMax.RX  FevMax.RX  ColdMax.RX  \\\n",
       "0  AB1912920        0.0           50            510        152           0   \n",
       "1  AB1350415     2370.0         1320             60       1416        2676   \n",
       "2  AB0129322        0.0           85              0          0         144   \n",
       "3  AB0462902       30.0          570              0        128        3900   \n",
       "4  AB3185026        0.0           40           1080          0           0   \n",
       "\n",
       "  BUCKET  \n",
       "0     B1  \n",
       "1     B1  \n",
       "2     B1  \n",
       "3     B1  \n",
       "4     B1  "
      ]
     },
     "execution_count": 250,
     "metadata": {},
     "output_type": "execute_result"
    }
   ],
   "source": [
    "df.head()"
   ]
  },
  {
   "cell_type": "code",
   "execution_count": 251,
   "metadata": {},
   "outputs": [
    {
     "name": "stderr",
     "output_type": "stream",
     "text": [
      "C:\\Users\\Loveshant\\Anaconda3\\lib\\site-packages\\ipykernel_launcher.py:1: SettingWithCopyWarning: \n",
      "A value is trying to be set on a copy of a slice from a DataFrame.\n",
      "Try using .loc[row_indexer,col_indexer] = value instead\n",
      "\n",
      "See the caveats in the documentation: http://pandas.pydata.org/pandas-docs/stable/indexing.html#indexing-view-versus-copy\n",
      "  \"\"\"Entry point for launching an IPython kernel.\n"
     ]
    }
   ],
   "source": [
    "df[df[\"CroMax.RX\"]>50][\"BUCKET\"] =\"B2\"\n",
    "    "
   ]
  },
  {
   "cell_type": "code",
   "execution_count": 252,
   "metadata": {},
   "outputs": [
    {
     "data": {
      "text/html": [
       "<div>\n",
       "<style scoped>\n",
       "    .dataframe tbody tr th:only-of-type {\n",
       "        vertical-align: middle;\n",
       "    }\n",
       "\n",
       "    .dataframe tbody tr th {\n",
       "        vertical-align: top;\n",
       "    }\n",
       "\n",
       "    .dataframe thead th {\n",
       "        text-align: right;\n",
       "    }\n",
       "</style>\n",
       "<table border=\"1\" class=\"dataframe\">\n",
       "  <thead>\n",
       "    <tr style=\"text-align: right;\">\n",
       "      <th></th>\n",
       "      <th>physician</th>\n",
       "      <th>CroMax.RX</th>\n",
       "      <th>GlycoMax.RX</th>\n",
       "      <th>AllergyMax.RX</th>\n",
       "      <th>FevMax.RX</th>\n",
       "      <th>ColdMax.RX</th>\n",
       "      <th>BUCKET</th>\n",
       "    </tr>\n",
       "  </thead>\n",
       "  <tbody>\n",
       "    <tr>\n",
       "      <th>0</th>\n",
       "      <td>AB1912920</td>\n",
       "      <td>0.0</td>\n",
       "      <td>50</td>\n",
       "      <td>510</td>\n",
       "      <td>152</td>\n",
       "      <td>0</td>\n",
       "      <td>B1</td>\n",
       "    </tr>\n",
       "    <tr>\n",
       "      <th>1</th>\n",
       "      <td>AB1350415</td>\n",
       "      <td>2370.0</td>\n",
       "      <td>1320</td>\n",
       "      <td>60</td>\n",
       "      <td>1416</td>\n",
       "      <td>2676</td>\n",
       "      <td>B1</td>\n",
       "    </tr>\n",
       "    <tr>\n",
       "      <th>2</th>\n",
       "      <td>AB0129322</td>\n",
       "      <td>0.0</td>\n",
       "      <td>85</td>\n",
       "      <td>0</td>\n",
       "      <td>0</td>\n",
       "      <td>144</td>\n",
       "      <td>B1</td>\n",
       "    </tr>\n",
       "    <tr>\n",
       "      <th>3</th>\n",
       "      <td>AB0462902</td>\n",
       "      <td>30.0</td>\n",
       "      <td>570</td>\n",
       "      <td>0</td>\n",
       "      <td>128</td>\n",
       "      <td>3900</td>\n",
       "      <td>B1</td>\n",
       "    </tr>\n",
       "    <tr>\n",
       "      <th>4</th>\n",
       "      <td>AB3185026</td>\n",
       "      <td>0.0</td>\n",
       "      <td>40</td>\n",
       "      <td>1080</td>\n",
       "      <td>0</td>\n",
       "      <td>0</td>\n",
       "      <td>B1</td>\n",
       "    </tr>\n",
       "  </tbody>\n",
       "</table>\n",
       "</div>"
      ],
      "text/plain": [
       "   physician  CroMax.RX  GlycoMax.RX  AllergyMax.RX  FevMax.RX  ColdMax.RX  \\\n",
       "0  AB1912920        0.0           50            510        152           0   \n",
       "1  AB1350415     2370.0         1320             60       1416        2676   \n",
       "2  AB0129322        0.0           85              0          0         144   \n",
       "3  AB0462902       30.0          570              0        128        3900   \n",
       "4  AB3185026        0.0           40           1080          0           0   \n",
       "\n",
       "  BUCKET  \n",
       "0     B1  \n",
       "1     B1  \n",
       "2     B1  \n",
       "3     B1  \n",
       "4     B1  "
      ]
     },
     "execution_count": 252,
     "metadata": {},
     "output_type": "execute_result"
    }
   ],
   "source": [
    "df.head()"
   ]
  },
  {
   "cell_type": "code",
   "execution_count": 258,
   "metadata": {},
   "outputs": [],
   "source": [
    "df.loc[(df[\"CroMax.RX\"]>50) & (df[\"GlycoMax.RX\"]>50), \"BUCKET\"] = \"B2\""
   ]
  },
  {
   "cell_type": "code",
   "execution_count": 259,
   "metadata": {},
   "outputs": [
    {
     "data": {
      "text/html": [
       "<div>\n",
       "<style scoped>\n",
       "    .dataframe tbody tr th:only-of-type {\n",
       "        vertical-align: middle;\n",
       "    }\n",
       "\n",
       "    .dataframe tbody tr th {\n",
       "        vertical-align: top;\n",
       "    }\n",
       "\n",
       "    .dataframe thead th {\n",
       "        text-align: right;\n",
       "    }\n",
       "</style>\n",
       "<table border=\"1\" class=\"dataframe\">\n",
       "  <thead>\n",
       "    <tr style=\"text-align: right;\">\n",
       "      <th></th>\n",
       "      <th>physician</th>\n",
       "      <th>CroMax.RX</th>\n",
       "      <th>GlycoMax.RX</th>\n",
       "      <th>AllergyMax.RX</th>\n",
       "      <th>FevMax.RX</th>\n",
       "      <th>ColdMax.RX</th>\n",
       "      <th>BUCKET</th>\n",
       "      <th>bucket</th>\n",
       "    </tr>\n",
       "  </thead>\n",
       "  <tbody>\n",
       "    <tr>\n",
       "      <th>0</th>\n",
       "      <td>AB1912920</td>\n",
       "      <td>0.0</td>\n",
       "      <td>50</td>\n",
       "      <td>510</td>\n",
       "      <td>152</td>\n",
       "      <td>0</td>\n",
       "      <td>B1</td>\n",
       "      <td>NaN</td>\n",
       "    </tr>\n",
       "    <tr>\n",
       "      <th>1</th>\n",
       "      <td>AB1350415</td>\n",
       "      <td>2370.0</td>\n",
       "      <td>1320</td>\n",
       "      <td>60</td>\n",
       "      <td>1416</td>\n",
       "      <td>2676</td>\n",
       "      <td>B2</td>\n",
       "      <td>B2</td>\n",
       "    </tr>\n",
       "    <tr>\n",
       "      <th>2</th>\n",
       "      <td>AB0129322</td>\n",
       "      <td>0.0</td>\n",
       "      <td>85</td>\n",
       "      <td>0</td>\n",
       "      <td>0</td>\n",
       "      <td>144</td>\n",
       "      <td>B1</td>\n",
       "      <td>NaN</td>\n",
       "    </tr>\n",
       "    <tr>\n",
       "      <th>3</th>\n",
       "      <td>AB0462902</td>\n",
       "      <td>30.0</td>\n",
       "      <td>570</td>\n",
       "      <td>0</td>\n",
       "      <td>128</td>\n",
       "      <td>3900</td>\n",
       "      <td>B1</td>\n",
       "      <td>NaN</td>\n",
       "    </tr>\n",
       "    <tr>\n",
       "      <th>4</th>\n",
       "      <td>AB3185026</td>\n",
       "      <td>0.0</td>\n",
       "      <td>40</td>\n",
       "      <td>1080</td>\n",
       "      <td>0</td>\n",
       "      <td>0</td>\n",
       "      <td>B1</td>\n",
       "      <td>NaN</td>\n",
       "    </tr>\n",
       "  </tbody>\n",
       "</table>\n",
       "</div>"
      ],
      "text/plain": [
       "   physician  CroMax.RX  GlycoMax.RX  AllergyMax.RX  FevMax.RX  ColdMax.RX  \\\n",
       "0  AB1912920        0.0           50            510        152           0   \n",
       "1  AB1350415     2370.0         1320             60       1416        2676   \n",
       "2  AB0129322        0.0           85              0          0         144   \n",
       "3  AB0462902       30.0          570              0        128        3900   \n",
       "4  AB3185026        0.0           40           1080          0           0   \n",
       "\n",
       "  BUCKET bucket  \n",
       "0     B1    NaN  \n",
       "1     B2     B2  \n",
       "2     B1    NaN  \n",
       "3     B1    NaN  \n",
       "4     B1    NaN  "
      ]
     },
     "execution_count": 259,
     "metadata": {},
     "output_type": "execute_result"
    }
   ],
   "source": [
    "df.head()"
   ]
  },
  {
   "cell_type": "code",
   "execution_count": 264,
   "metadata": {},
   "outputs": [],
   "source": [
    "df[\"new_physician\"] = df[\"BUCKET\"]+\"_\"+df[\"physician\"]"
   ]
  },
  {
   "cell_type": "code",
   "execution_count": 265,
   "metadata": {},
   "outputs": [
    {
     "data": {
      "text/html": [
       "<div>\n",
       "<style scoped>\n",
       "    .dataframe tbody tr th:only-of-type {\n",
       "        vertical-align: middle;\n",
       "    }\n",
       "\n",
       "    .dataframe tbody tr th {\n",
       "        vertical-align: top;\n",
       "    }\n",
       "\n",
       "    .dataframe thead th {\n",
       "        text-align: right;\n",
       "    }\n",
       "</style>\n",
       "<table border=\"1\" class=\"dataframe\">\n",
       "  <thead>\n",
       "    <tr style=\"text-align: right;\">\n",
       "      <th></th>\n",
       "      <th>physician</th>\n",
       "      <th>CroMax.RX</th>\n",
       "      <th>GlycoMax.RX</th>\n",
       "      <th>AllergyMax.RX</th>\n",
       "      <th>FevMax.RX</th>\n",
       "      <th>ColdMax.RX</th>\n",
       "      <th>BUCKET</th>\n",
       "      <th>bucket</th>\n",
       "      <th>new_physician</th>\n",
       "    </tr>\n",
       "  </thead>\n",
       "  <tbody>\n",
       "    <tr>\n",
       "      <th>0</th>\n",
       "      <td>AB1912920</td>\n",
       "      <td>0.0</td>\n",
       "      <td>50</td>\n",
       "      <td>510</td>\n",
       "      <td>152</td>\n",
       "      <td>0</td>\n",
       "      <td>B1</td>\n",
       "      <td>NaN</td>\n",
       "      <td>B1_AB1912920</td>\n",
       "    </tr>\n",
       "    <tr>\n",
       "      <th>1</th>\n",
       "      <td>AB1350415</td>\n",
       "      <td>2370.0</td>\n",
       "      <td>1320</td>\n",
       "      <td>60</td>\n",
       "      <td>1416</td>\n",
       "      <td>2676</td>\n",
       "      <td>B2</td>\n",
       "      <td>B2</td>\n",
       "      <td>B2_AB1350415</td>\n",
       "    </tr>\n",
       "    <tr>\n",
       "      <th>2</th>\n",
       "      <td>AB0129322</td>\n",
       "      <td>0.0</td>\n",
       "      <td>85</td>\n",
       "      <td>0</td>\n",
       "      <td>0</td>\n",
       "      <td>144</td>\n",
       "      <td>B1</td>\n",
       "      <td>NaN</td>\n",
       "      <td>B1_AB0129322</td>\n",
       "    </tr>\n",
       "    <tr>\n",
       "      <th>3</th>\n",
       "      <td>AB0462902</td>\n",
       "      <td>30.0</td>\n",
       "      <td>570</td>\n",
       "      <td>0</td>\n",
       "      <td>128</td>\n",
       "      <td>3900</td>\n",
       "      <td>B1</td>\n",
       "      <td>NaN</td>\n",
       "      <td>B1_AB0462902</td>\n",
       "    </tr>\n",
       "    <tr>\n",
       "      <th>4</th>\n",
       "      <td>AB3185026</td>\n",
       "      <td>0.0</td>\n",
       "      <td>40</td>\n",
       "      <td>1080</td>\n",
       "      <td>0</td>\n",
       "      <td>0</td>\n",
       "      <td>B1</td>\n",
       "      <td>NaN</td>\n",
       "      <td>B1_AB3185026</td>\n",
       "    </tr>\n",
       "  </tbody>\n",
       "</table>\n",
       "</div>"
      ],
      "text/plain": [
       "   physician  CroMax.RX  GlycoMax.RX  AllergyMax.RX  FevMax.RX  ColdMax.RX  \\\n",
       "0  AB1912920        0.0           50            510        152           0   \n",
       "1  AB1350415     2370.0         1320             60       1416        2676   \n",
       "2  AB0129322        0.0           85              0          0         144   \n",
       "3  AB0462902       30.0          570              0        128        3900   \n",
       "4  AB3185026        0.0           40           1080          0           0   \n",
       "\n",
       "  BUCKET bucket new_physician  \n",
       "0     B1    NaN  B1_AB1912920  \n",
       "1     B2     B2  B2_AB1350415  \n",
       "2     B1    NaN  B1_AB0129322  \n",
       "3     B1    NaN  B1_AB0462902  \n",
       "4     B1    NaN  B1_AB3185026  "
      ]
     },
     "execution_count": 265,
     "metadata": {},
     "output_type": "execute_result"
    }
   ],
   "source": [
    "df.head()"
   ]
  },
  {
   "cell_type": "code",
   "execution_count": 266,
   "metadata": {},
   "outputs": [
    {
     "data": {
      "text/plain": [
       "Index(['physician', 'CroMax.RX', 'GlycoMax.RX', 'AllergyMax.RX', 'FevMax.RX',\n",
       "       'ColdMax.RX', 'BUCKET', 'bucket', 'new_physician'],\n",
       "      dtype='object')"
      ]
     },
     "execution_count": 266,
     "metadata": {},
     "output_type": "execute_result"
    }
   ],
   "source": [
    "df.columns"
   ]
  },
  {
   "cell_type": "code",
   "execution_count": 271,
   "metadata": {},
   "outputs": [],
   "source": [
    "df = df[['new_physician', 'CroMax.RX', 'GlycoMax.RX', 'AllergyMax.RX', 'FevMax.RX',\n",
    "       'ColdMax.RX']] # Rearranging the columns and assigning it to same data frame"
   ]
  },
  {
   "cell_type": "code",
   "execution_count": 272,
   "metadata": {},
   "outputs": [
    {
     "data": {
      "text/html": [
       "<div>\n",
       "<style scoped>\n",
       "    .dataframe tbody tr th:only-of-type {\n",
       "        vertical-align: middle;\n",
       "    }\n",
       "\n",
       "    .dataframe tbody tr th {\n",
       "        vertical-align: top;\n",
       "    }\n",
       "\n",
       "    .dataframe thead th {\n",
       "        text-align: right;\n",
       "    }\n",
       "</style>\n",
       "<table border=\"1\" class=\"dataframe\">\n",
       "  <thead>\n",
       "    <tr style=\"text-align: right;\">\n",
       "      <th></th>\n",
       "      <th>new_physician</th>\n",
       "      <th>CroMax.RX</th>\n",
       "      <th>GlycoMax.RX</th>\n",
       "      <th>AllergyMax.RX</th>\n",
       "      <th>FevMax.RX</th>\n",
       "      <th>ColdMax.RX</th>\n",
       "    </tr>\n",
       "  </thead>\n",
       "  <tbody>\n",
       "    <tr>\n",
       "      <th>0</th>\n",
       "      <td>B1_AB1912920</td>\n",
       "      <td>0.0</td>\n",
       "      <td>50</td>\n",
       "      <td>510</td>\n",
       "      <td>152</td>\n",
       "      <td>0</td>\n",
       "    </tr>\n",
       "    <tr>\n",
       "      <th>1</th>\n",
       "      <td>B2_AB1350415</td>\n",
       "      <td>2370.0</td>\n",
       "      <td>1320</td>\n",
       "      <td>60</td>\n",
       "      <td>1416</td>\n",
       "      <td>2676</td>\n",
       "    </tr>\n",
       "    <tr>\n",
       "      <th>2</th>\n",
       "      <td>B1_AB0129322</td>\n",
       "      <td>0.0</td>\n",
       "      <td>85</td>\n",
       "      <td>0</td>\n",
       "      <td>0</td>\n",
       "      <td>144</td>\n",
       "    </tr>\n",
       "    <tr>\n",
       "      <th>3</th>\n",
       "      <td>B1_AB0462902</td>\n",
       "      <td>30.0</td>\n",
       "      <td>570</td>\n",
       "      <td>0</td>\n",
       "      <td>128</td>\n",
       "      <td>3900</td>\n",
       "    </tr>\n",
       "    <tr>\n",
       "      <th>4</th>\n",
       "      <td>B1_AB3185026</td>\n",
       "      <td>0.0</td>\n",
       "      <td>40</td>\n",
       "      <td>1080</td>\n",
       "      <td>0</td>\n",
       "      <td>0</td>\n",
       "    </tr>\n",
       "  </tbody>\n",
       "</table>\n",
       "</div>"
      ],
      "text/plain": [
       "  new_physician  CroMax.RX  GlycoMax.RX  AllergyMax.RX  FevMax.RX  ColdMax.RX\n",
       "0  B1_AB1912920        0.0           50            510        152           0\n",
       "1  B2_AB1350415     2370.0         1320             60       1416        2676\n",
       "2  B1_AB0129322        0.0           85              0          0         144\n",
       "3  B1_AB0462902       30.0          570              0        128        3900\n",
       "4  B1_AB3185026        0.0           40           1080          0           0"
      ]
     },
     "execution_count": 272,
     "metadata": {},
     "output_type": "execute_result"
    }
   ],
   "source": [
    "df.head()"
   ]
  },
  {
   "cell_type": "code",
   "execution_count": 274,
   "metadata": {},
   "outputs": [
    {
     "data": {
      "text/plain": [
       "['hello', 'world']"
      ]
     },
     "execution_count": 274,
     "metadata": {},
     "output_type": "execute_result"
    }
   ],
   "source": [
    "\"hello_world\".split(\"_\")"
   ]
  },
  {
   "cell_type": "code",
   "execution_count": 282,
   "metadata": {},
   "outputs": [],
   "source": [
    "df[\"bucket\"] = df[\"new_physician\"].str.split(\"_\").str[0]"
   ]
  },
  {
   "cell_type": "code",
   "execution_count": 283,
   "metadata": {},
   "outputs": [],
   "source": [
    "df[\"physician\"] = df[\"new_physician\"].str.split(\"_\").str[1]"
   ]
  },
  {
   "cell_type": "code",
   "execution_count": 284,
   "metadata": {},
   "outputs": [
    {
     "data": {
      "text/html": [
       "<div>\n",
       "<style scoped>\n",
       "    .dataframe tbody tr th:only-of-type {\n",
       "        vertical-align: middle;\n",
       "    }\n",
       "\n",
       "    .dataframe tbody tr th {\n",
       "        vertical-align: top;\n",
       "    }\n",
       "\n",
       "    .dataframe thead th {\n",
       "        text-align: right;\n",
       "    }\n",
       "</style>\n",
       "<table border=\"1\" class=\"dataframe\">\n",
       "  <thead>\n",
       "    <tr style=\"text-align: right;\">\n",
       "      <th></th>\n",
       "      <th>new_physician</th>\n",
       "      <th>CroMax.RX</th>\n",
       "      <th>GlycoMax.RX</th>\n",
       "      <th>AllergyMax.RX</th>\n",
       "      <th>FevMax.RX</th>\n",
       "      <th>ColdMax.RX</th>\n",
       "      <th>bucket</th>\n",
       "      <th>physician</th>\n",
       "    </tr>\n",
       "  </thead>\n",
       "  <tbody>\n",
       "    <tr>\n",
       "      <th>0</th>\n",
       "      <td>B1_AB1912920</td>\n",
       "      <td>0.0</td>\n",
       "      <td>50</td>\n",
       "      <td>510</td>\n",
       "      <td>152</td>\n",
       "      <td>0</td>\n",
       "      <td>B1</td>\n",
       "      <td>AB1912920</td>\n",
       "    </tr>\n",
       "    <tr>\n",
       "      <th>1</th>\n",
       "      <td>B2_AB1350415</td>\n",
       "      <td>2370.0</td>\n",
       "      <td>1320</td>\n",
       "      <td>60</td>\n",
       "      <td>1416</td>\n",
       "      <td>2676</td>\n",
       "      <td>B2</td>\n",
       "      <td>AB1350415</td>\n",
       "    </tr>\n",
       "    <tr>\n",
       "      <th>2</th>\n",
       "      <td>B1_AB0129322</td>\n",
       "      <td>0.0</td>\n",
       "      <td>85</td>\n",
       "      <td>0</td>\n",
       "      <td>0</td>\n",
       "      <td>144</td>\n",
       "      <td>B1</td>\n",
       "      <td>AB0129322</td>\n",
       "    </tr>\n",
       "    <tr>\n",
       "      <th>3</th>\n",
       "      <td>B1_AB0462902</td>\n",
       "      <td>30.0</td>\n",
       "      <td>570</td>\n",
       "      <td>0</td>\n",
       "      <td>128</td>\n",
       "      <td>3900</td>\n",
       "      <td>B1</td>\n",
       "      <td>AB0462902</td>\n",
       "    </tr>\n",
       "    <tr>\n",
       "      <th>4</th>\n",
       "      <td>B1_AB3185026</td>\n",
       "      <td>0.0</td>\n",
       "      <td>40</td>\n",
       "      <td>1080</td>\n",
       "      <td>0</td>\n",
       "      <td>0</td>\n",
       "      <td>B1</td>\n",
       "      <td>AB3185026</td>\n",
       "    </tr>\n",
       "  </tbody>\n",
       "</table>\n",
       "</div>"
      ],
      "text/plain": [
       "  new_physician  CroMax.RX  GlycoMax.RX  AllergyMax.RX  FevMax.RX  ColdMax.RX  \\\n",
       "0  B1_AB1912920        0.0           50            510        152           0   \n",
       "1  B2_AB1350415     2370.0         1320             60       1416        2676   \n",
       "2  B1_AB0129322        0.0           85              0          0         144   \n",
       "3  B1_AB0462902       30.0          570              0        128        3900   \n",
       "4  B1_AB3185026        0.0           40           1080          0           0   \n",
       "\n",
       "  bucket  physician  \n",
       "0     B1  AB1912920  \n",
       "1     B2  AB1350415  \n",
       "2     B1  AB0129322  \n",
       "3     B1  AB0462902  \n",
       "4     B1  AB3185026  "
      ]
     },
     "execution_count": 284,
     "metadata": {},
     "output_type": "execute_result"
    }
   ],
   "source": [
    "df.head()"
   ]
  },
  {
   "cell_type": "code",
   "execution_count": 285,
   "metadata": {},
   "outputs": [
    {
     "data": {
      "text/plain": [
       "Index(['new_physician', 'CroMax.RX', 'GlycoMax.RX', 'AllergyMax.RX',\n",
       "       'FevMax.RX', 'ColdMax.RX', 'bucket', 'physician'],\n",
       "      dtype='object')"
      ]
     },
     "execution_count": 285,
     "metadata": {},
     "output_type": "execute_result"
    }
   ],
   "source": [
    "df.columns"
   ]
  },
  {
   "cell_type": "code",
   "execution_count": 286,
   "metadata": {},
   "outputs": [],
   "source": [
    "df=df[['physician','CroMax.RX', 'GlycoMax.RX', 'AllergyMax.RX',\n",
    "       'FevMax.RX', 'ColdMax.RX', 'bucket' ]]"
   ]
  },
  {
   "cell_type": "code",
   "execution_count": 287,
   "metadata": {},
   "outputs": [
    {
     "data": {
      "text/html": [
       "<div>\n",
       "<style scoped>\n",
       "    .dataframe tbody tr th:only-of-type {\n",
       "        vertical-align: middle;\n",
       "    }\n",
       "\n",
       "    .dataframe tbody tr th {\n",
       "        vertical-align: top;\n",
       "    }\n",
       "\n",
       "    .dataframe thead th {\n",
       "        text-align: right;\n",
       "    }\n",
       "</style>\n",
       "<table border=\"1\" class=\"dataframe\">\n",
       "  <thead>\n",
       "    <tr style=\"text-align: right;\">\n",
       "      <th></th>\n",
       "      <th>physician</th>\n",
       "      <th>CroMax.RX</th>\n",
       "      <th>GlycoMax.RX</th>\n",
       "      <th>AllergyMax.RX</th>\n",
       "      <th>FevMax.RX</th>\n",
       "      <th>ColdMax.RX</th>\n",
       "      <th>bucket</th>\n",
       "    </tr>\n",
       "  </thead>\n",
       "  <tbody>\n",
       "    <tr>\n",
       "      <th>0</th>\n",
       "      <td>AB1912920</td>\n",
       "      <td>0.0</td>\n",
       "      <td>50</td>\n",
       "      <td>510</td>\n",
       "      <td>152</td>\n",
       "      <td>0</td>\n",
       "      <td>B1</td>\n",
       "    </tr>\n",
       "    <tr>\n",
       "      <th>1</th>\n",
       "      <td>AB1350415</td>\n",
       "      <td>2370.0</td>\n",
       "      <td>1320</td>\n",
       "      <td>60</td>\n",
       "      <td>1416</td>\n",
       "      <td>2676</td>\n",
       "      <td>B2</td>\n",
       "    </tr>\n",
       "    <tr>\n",
       "      <th>2</th>\n",
       "      <td>AB0129322</td>\n",
       "      <td>0.0</td>\n",
       "      <td>85</td>\n",
       "      <td>0</td>\n",
       "      <td>0</td>\n",
       "      <td>144</td>\n",
       "      <td>B1</td>\n",
       "    </tr>\n",
       "    <tr>\n",
       "      <th>3</th>\n",
       "      <td>AB0462902</td>\n",
       "      <td>30.0</td>\n",
       "      <td>570</td>\n",
       "      <td>0</td>\n",
       "      <td>128</td>\n",
       "      <td>3900</td>\n",
       "      <td>B1</td>\n",
       "    </tr>\n",
       "    <tr>\n",
       "      <th>4</th>\n",
       "      <td>AB3185026</td>\n",
       "      <td>0.0</td>\n",
       "      <td>40</td>\n",
       "      <td>1080</td>\n",
       "      <td>0</td>\n",
       "      <td>0</td>\n",
       "      <td>B1</td>\n",
       "    </tr>\n",
       "  </tbody>\n",
       "</table>\n",
       "</div>"
      ],
      "text/plain": [
       "   physician  CroMax.RX  GlycoMax.RX  AllergyMax.RX  FevMax.RX  ColdMax.RX  \\\n",
       "0  AB1912920        0.0           50            510        152           0   \n",
       "1  AB1350415     2370.0         1320             60       1416        2676   \n",
       "2  AB0129322        0.0           85              0          0         144   \n",
       "3  AB0462902       30.0          570              0        128        3900   \n",
       "4  AB3185026        0.0           40           1080          0           0   \n",
       "\n",
       "  bucket  \n",
       "0     B1  \n",
       "1     B2  \n",
       "2     B1  \n",
       "3     B1  \n",
       "4     B1  "
      ]
     },
     "execution_count": 287,
     "metadata": {},
     "output_type": "execute_result"
    }
   ],
   "source": [
    "df.head()"
   ]
  },
  {
   "cell_type": "code",
   "execution_count": null,
   "metadata": {},
   "outputs": [],
   "source": []
  }
 ],
 "metadata": {
  "kernelspec": {
   "display_name": "Python 3",
   "language": "python",
   "name": "python3"
  },
  "language_info": {
   "codemirror_mode": {
    "name": "ipython",
    "version": 3
   },
   "file_extension": ".py",
   "mimetype": "text/x-python",
   "name": "python",
   "nbconvert_exporter": "python",
   "pygments_lexer": "ipython3",
   "version": "3.7.0"
  }
 },
 "nbformat": 4,
 "nbformat_minor": 2
}
